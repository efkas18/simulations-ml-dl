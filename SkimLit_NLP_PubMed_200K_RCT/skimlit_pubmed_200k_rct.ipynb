{
 "cells": [
  {
   "cell_type": "markdown",
   "id": "4dd50c42-bce6-4b00-a22a-ed14f6b6aa00",
   "metadata": {
    "editable": true,
    "slideshow": {
     "slide_type": ""
    },
    "tags": []
   },
   "source": [
    "# SkimLit - PubMed 200K RCT"
   ]
  },
  {
   "cell_type": "markdown",
   "id": "a0387d24-1fae-4709-b7c1-d3050c023b0e",
   "metadata": {},
   "source": [
    "## Introduction"
   ]
  },
  {
   "cell_type": "markdown",
   "id": "fd9c9840-d219-4eb2-9a8c-8a66ba457d5c",
   "metadata": {},
   "source": [
    "### Checking the GPU"
   ]
  },
  {
   "cell_type": "code",
   "execution_count": 1,
   "id": "9baadd2c-d37b-488d-9630-0e3117f3737b",
   "metadata": {},
   "outputs": [],
   "source": [
    "# # Google Colab / Systems with NVIDIA GPU\n",
    "# !nvidia-smi"
   ]
  },
  {
   "cell_type": "markdown",
   "id": "fa578d02-8a8c-4acb-a0ac-93a426f87435",
   "metadata": {},
   "source": [
    "### Install / Import Tensorflow"
   ]
  },
  {
   "cell_type": "code",
   "execution_count": 2,
   "id": "a95d4eca-0585-4c8a-bbdc-84dab9b24781",
   "metadata": {},
   "outputs": [],
   "source": [
    "# # Uncomment if does not exist to install TensorFlow.\n",
    "# !pip install tensorflow"
   ]
  },
  {
   "cell_type": "markdown",
   "id": "9c4a4797-b7fc-4c26-a798-6182fe482dc6",
   "metadata": {},
   "source": [
    "### Import basic libraries"
   ]
  },
  {
   "cell_type": "code",
   "execution_count": 3,
   "id": "6fca1757-483b-4d84-8bc6-374c259f6730",
   "metadata": {},
   "outputs": [],
   "source": [
    "# Ignores warnings if continuously showed up.\n",
    "import warnings\n",
    "warnings.filterwarnings(action = \"ignore\")\n",
    "\n",
    "# Imports common libraries.\n",
    "import numpy as np\n",
    "import pandas as pd\n",
    "import matplotlib.pyplot as plt\n",
    "import matplotlib.image as mpimg\n",
    "import os, io, platform, subprocess\n",
    "import time, datetime, random, itertools\n",
    "import string\n",
    "\n",
    "from importlib import reload"
   ]
  },
  {
   "cell_type": "markdown",
   "id": "31e18ec3-433b-4e54-9f56-d1da38c4167a",
   "metadata": {},
   "source": [
    "### Import core tensorflow library and related modules"
   ]
  },
  {
   "cell_type": "code",
   "execution_count": 4,
   "id": "f37ce05b-1813-4c2b-aef2-2824c6f7193e",
   "metadata": {},
   "outputs": [
    {
     "name": "stdout",
     "output_type": "stream",
     "text": [
      "WARNING:tensorflow:From C:\\Users\\skyli\\anaconda3\\Lib\\site-packages\\tf_keras\\src\\losses.py:2976: The name tf.losses.sparse_softmax_cross_entropy is deprecated. Please use tf.compat.v1.losses.sparse_softmax_cross_entropy instead.\n",
      "\n"
     ]
    }
   ],
   "source": [
    "import tensorflow as tf\n",
    "import tensorflow_hub as hub\n",
    "import tf_keras"
   ]
  },
  {
   "cell_type": "code",
   "execution_count": 5,
   "id": "ec144cee-af08-4a3d-a1b3-f35cbdc857e8",
   "metadata": {},
   "outputs": [
    {
     "name": "stdout",
     "output_type": "stream",
     "text": [
      "2.19.0\n"
     ]
    }
   ],
   "source": [
    "print(tf.__version__)"
   ]
  },
  {
   "cell_type": "markdown",
   "id": "62b347fc-d2aa-4592-9d2d-a00ee22ccff2",
   "metadata": {},
   "source": [
    "### Getting helper functions"
   ]
  },
  {
   "cell_type": "code",
   "execution_count": 6,
   "id": "4fa96055-9dcb-43e5-9e88-f86279131a06",
   "metadata": {},
   "outputs": [
    {
     "data": {
      "text/plain": [
       "<module 'extras.helper_functions' from 'D:\\\\Desktop\\\\Projects\\\\Temporal Project\\\\extras\\\\helper_functions.py'>"
      ]
     },
     "execution_count": 6,
     "metadata": {},
     "output_type": "execute_result"
    }
   ],
   "source": [
    "import extras.helper_functions as hf\n",
    "from importlib import reload\n",
    "reload(hf)"
   ]
  },
  {
   "cell_type": "markdown",
   "id": "dc90b084-6169-41a1-b9de-4bd8732be62d",
   "metadata": {},
   "source": [
    "## Main Section"
   ]
  },
  {
   "cell_type": "markdown",
   "id": "e88775a6-f876-49c4-95db-3de0a3075b43",
   "metadata": {},
   "source": [
    "### Getting Data"
   ]
  },
  {
   "cell_type": "markdown",
   "id": "a224c7a4-c3eb-4ab2-904f-b0b5fc9d4f60",
   "metadata": {},
   "source": [
    "Main Source of case study | PubMed 200K RCT (Randomized Controlled Trials)\n",
    "> https://arxiv.org/abs/1710.06071"
   ]
  },
  {
   "cell_type": "markdown",
   "id": "a6109d89-81dc-4181-8a41-fce8169d58cd",
   "metadata": {},
   "source": [
    "One of the sources could found a dataset for this case is the following: \n",
    "> https://github.com/Franck-Dernoncourt/pubmed-rct"
   ]
  },
  {
   "cell_type": "code",
   "execution_count": 7,
   "id": "854f5fb2-9c73-4a6e-8c16-5f18ca2b67eb",
   "metadata": {},
   "outputs": [
    {
     "name": "stdout",
     "output_type": "stream",
     "text": [
      "----------\n",
      " Volume in drive D is Storage\n",
      " Volume Serial Number is 12EE-8809\n",
      "\n",
      " Directory of D:\\Desktop\\Projects\\Temporal Project\\pubmed-rct\n",
      "\n",
      "08/05/2025  10:05    <DIR>          .\n",
      "12/05/2025  14:30    <DIR>          ..\n",
      "08/05/2025  10:05    <DIR>          PubMed_200k_RCT\n",
      "08/05/2025  10:05    <DIR>          PubMed_200k_RCT_numbers_replaced_with_at_sign\n",
      "08/05/2025  10:05    <DIR>          PubMed_20k_RCT\n",
      "08/05/2025  10:05    <DIR>          PubMed_20k_RCT_numbers_replaced_with_at_sign\n",
      "08/05/2025  10:05             3.733 README.md\n",
      "               1 File(s)          3.733 bytes\n",
      "               6 Dir(s)  1.044.077.453.312 bytes free\n",
      "----------\n"
     ]
    }
   ],
   "source": [
    "if not os.path.exists(\"pubmed-rct\"):\n",
    "    warnings.filterwarnings(\"ignore\", category = ResourceWarning)\n",
    "    subprocess.run([\"git\", \"clone\", \"https://github.com/Franck-Dernoncourt/pubmed-rct\"], check=True)\n",
    "\n",
    "if platform.system() == \"Windows\":\n",
    "    print(\"----------\")\n",
    "    !dir pubmed-rct\n",
    "    print(\"----------\")    \n",
    "else:\n",
    "    print(\"**********\")\n",
    "    !ls pubmed-rct\n",
    "    print(\"**********\")    "
   ]
  },
  {
   "cell_type": "code",
   "execution_count": 8,
   "id": "b363b9b4-3cf7-4892-8366-c240027e806c",
   "metadata": {},
   "outputs": [
    {
     "name": "stdout",
     "output_type": "stream",
     "text": [
      "----------\n",
      " Volume in drive D is Storage\n",
      " Volume Serial Number is 12EE-8809\n",
      "\n",
      " Directory of D:\\Desktop\\Projects\\Temporal Project\\pubmed-rct\\PubMed_20k_RCT_numbers_replaced_with_at_sign\n",
      "\n",
      "08/05/2025  10:05    <DIR>          .\n",
      "08/05/2025  10:05    <DIR>          ..\n",
      "08/05/2025  10:05         4.880.409 dev.txt\n",
      "08/05/2025  10:05         4.846.504 test.txt\n",
      "08/05/2025  10:05        29.118.832 train.txt\n",
      "               3 File(s)     38.845.745 bytes\n",
      "               2 Dir(s)  1.044.077.453.312 bytes free\n",
      "----------\n"
     ]
    }
   ],
   "source": [
    "# Checking what files are in the 'PubMed_20K' dataset.\n",
    "if platform.system() == \"Windows\":\n",
    "    print(\"----------\")\n",
    "    !dir pubmed-rct\\\\PubMed_20k_RCT_numbers_replaced_with_at_sign\n",
    "    print(\"----------\")\n",
    "else:\n",
    "    print(\"**********\")\n",
    "    !ls pubmed-rct/PubMed_20k_RCT_numbers_replaced_with_at_sign\n",
    "    print(\"**********\")"
   ]
  },
  {
   "cell_type": "code",
   "execution_count": 9,
   "id": "8c471d26-087e-41f0-bbbb-0fde36ff7c36",
   "metadata": {},
   "outputs": [],
   "source": [
    "# Starting expirements using 20K dataset with numbers replaced with '@' sign.\n",
    "data_dir = \"pubmed-rct/PubMed_20k_RCT_numbers_replaced_with_at_sign/\""
   ]
  },
  {
   "cell_type": "code",
   "execution_count": 10,
   "id": "6d9b1f48-0e08-434b-8d5e-0a2b99176d09",
   "metadata": {},
   "outputs": [
    {
     "data": {
      "text/plain": [
       "['pubmed-rct/PubMed_20k_RCT_numbers_replaced_with_at_sign/dev.txt',\n",
       " 'pubmed-rct/PubMed_20k_RCT_numbers_replaced_with_at_sign/test.txt',\n",
       " 'pubmed-rct/PubMed_20k_RCT_numbers_replaced_with_at_sign/train.txt']"
      ]
     },
     "execution_count": 10,
     "metadata": {},
     "output_type": "execute_result"
    }
   ],
   "source": [
    "# Checking all of the filenames in the target directory.\n",
    "filenames = [data_dir + filename for filename in os.listdir(data_dir)]\n",
    "filenames"
   ]
  },
  {
   "cell_type": "markdown",
   "id": "75f71599-76f5-4d6b-aeca-96ffd85dedb8",
   "metadata": {},
   "source": [
    "### Preprocessing data"
   ]
  },
  {
   "cell_type": "code",
   "execution_count": 11,
   "id": "9ba1e330-f59d-47db-acb9-218cc67e3738",
   "metadata": {},
   "outputs": [
    {
     "data": {
      "text/plain": [
       "['###24293578\\n',\n",
       " 'OBJECTIVE\\tTo investigate the efficacy of @ weeks of daily low-dose oral prednisolone in improving pain , mobility , and systemic low-grade inflammation in the short term and whether the effect would be sustained at @ weeks in older adults with moderate to severe knee osteoarthritis ( OA ) .\\n',\n",
       " 'METHODS\\tA total of @ patients with primary knee OA were randomized @:@ ; @ received @ mg/day of prednisolone and @ received placebo for @ weeks .\\n',\n",
       " 'METHODS\\tOutcome measures included pain reduction and improvement in function scores and systemic inflammation markers .\\n',\n",
       " 'METHODS\\tPain was assessed using the visual analog pain scale ( @-@ mm ) .\\n',\n",
       " 'METHODS\\tSecondary outcome measures included the Western Ontario and McMaster Universities Osteoarthritis Index scores , patient global assessment ( PGA ) of the severity of knee OA , and @-min walk distance ( @MWD ) .\\n',\n",
       " 'METHODS\\tSerum levels of interleukin @ ( IL-@ ) , IL-@ , tumor necrosis factor ( TNF ) - , and high-sensitivity C-reactive protein ( hsCRP ) were measured .\\n',\n",
       " 'RESULTS\\tThere was a clinically relevant reduction in the intervention group compared to the placebo group for knee pain , physical function , PGA , and @MWD at @ weeks .\\n',\n",
       " 'RESULTS\\tThe mean difference between treatment arms ( @ % CI ) was @ ( @-@ @ ) , p < @ ; @ ( @-@ @ ) , p < @ ; @ ( @-@ @ ) , p < @ ; and @ ( @-@ @ ) , p < @ , respectively .\\n',\n",
       " 'RESULTS\\tFurther , there was a clinically relevant reduction in the serum levels of IL-@ , IL-@ , TNF - , and hsCRP at @ weeks in the intervention group when compared to the placebo group .\\n',\n",
       " 'RESULTS\\tThese differences remained significant at @ weeks .\\n',\n",
       " 'RESULTS\\tThe Outcome Measures in Rheumatology Clinical Trials-Osteoarthritis Research Society International responder rate was @ % in the intervention group and @ % in the placebo group ( p < @ ) .\\n',\n",
       " 'CONCLUSIONS\\tLow-dose oral prednisolone had both a short-term and a longer sustained effect resulting in less knee pain , better physical function , and attenuation of systemic inflammation in older patients with knee OA ( ClinicalTrials.gov identifier NCT@ ) .\\n',\n",
       " '\\n',\n",
       " '###24854809\\n',\n",
       " 'BACKGROUND\\tEmotional eating is associated with overeating and the development of obesity .\\n',\n",
       " 'BACKGROUND\\tYet , empirical evidence for individual ( trait ) differences in emotional eating and cognitive mechanisms that contribute to eating during sad mood remain equivocal .\\n',\n",
       " 'OBJECTIVE\\tThe aim of this study was to test if attention bias for food moderates the effect of self-reported emotional eating during sad mood ( vs neutral mood ) on actual food intake .\\n',\n",
       " 'OBJECTIVE\\tIt was expected that emotional eating is predictive of elevated attention for food and higher food intake after an experimentally induced sad mood and that attentional maintenance on food predicts food intake during a sad versus a neutral mood .\\n',\n",
       " 'METHODS\\tParticipants ( N = @ ) were randomly assigned to one of the two experimental mood induction conditions ( sad/neutral ) .\\n']"
      ]
     },
     "execution_count": 11,
     "metadata": {},
     "output_type": "execute_result"
    }
   ],
   "source": [
    "# Reading the training lines.\n",
    "train_lines = hf.get_lines(data_dir + \"train.txt\") # read the lines with the training file\n",
    "train_lines[:20]"
   ]
  },
  {
   "cell_type": "code",
   "execution_count": 12,
   "id": "e886381c-73f4-40e5-9e76-5b5c20466f4f",
   "metadata": {},
   "outputs": [
    {
     "data": {
      "text/plain": [
       "210040"
      ]
     },
     "execution_count": 12,
     "metadata": {},
     "output_type": "execute_result"
    }
   ],
   "source": [
    "len(train_lines)"
   ]
  },
  {
   "cell_type": "code",
   "execution_count": 13,
   "id": "6cbdde16-1332-4b2c-a18b-67ae87504817",
   "metadata": {},
   "outputs": [
    {
     "name": "stdout",
     "output_type": "stream",
     "text": [
      "180040 30212 30135\n",
      "Execution time: 0.4960 seconds\n"
     ]
    }
   ],
   "source": [
    "# Getting data from file and preprocessing it.\n",
    "start_time = time.time()\n",
    "\n",
    "train_samples = hf.preprocess_text_with_line_numbers(data_dir + \"train.txt\") # training data\n",
    "val_samples = hf.preprocess_text_with_line_numbers(data_dir + \"dev.txt\") # validation data\n",
    "test_samples = hf.preprocess_text_with_line_numbers(data_dir + \"test.txt\") # testing data\n",
    "print(len(train_samples), len(val_samples), len(test_samples))\n",
    "\n",
    "end_time = time.time()\n",
    "print(f\"Execution time: {end_time - start_time:.4f} seconds\")"
   ]
  },
  {
   "cell_type": "code",
   "execution_count": 14,
   "id": "3a07317b-3261-4483-a6af-f6e34f6b32c5",
   "metadata": {},
   "outputs": [
    {
     "data": {
      "text/plain": [
       "[{'target': 'OBJECTIVE',\n",
       "  'text': 'to investigate the efficacy of @ weeks of daily low-dose oral prednisolone in improving pain , mobility , and systemic low-grade inflammation in the short term and whether the effect would be sustained at @ weeks in older adults with moderate to severe knee osteoarthritis ( oa ) .',\n",
       "  'line_number': 0,\n",
       "  'total_lines': 11},\n",
       " {'target': 'METHODS',\n",
       "  'text': 'a total of @ patients with primary knee oa were randomized @:@ ; @ received @ mg/day of prednisolone and @ received placebo for @ weeks .',\n",
       "  'line_number': 1,\n",
       "  'total_lines': 11},\n",
       " {'target': 'METHODS',\n",
       "  'text': 'outcome measures included pain reduction and improvement in function scores and systemic inflammation markers .',\n",
       "  'line_number': 2,\n",
       "  'total_lines': 11},\n",
       " {'target': 'METHODS',\n",
       "  'text': 'pain was assessed using the visual analog pain scale ( @-@ mm ) .',\n",
       "  'line_number': 3,\n",
       "  'total_lines': 11},\n",
       " {'target': 'METHODS',\n",
       "  'text': 'secondary outcome measures included the western ontario and mcmaster universities osteoarthritis index scores , patient global assessment ( pga ) of the severity of knee oa , and @-min walk distance ( @mwd ) .',\n",
       "  'line_number': 4,\n",
       "  'total_lines': 11},\n",
       " {'target': 'METHODS',\n",
       "  'text': 'serum levels of interleukin @ ( il-@ ) , il-@ , tumor necrosis factor ( tnf ) - , and high-sensitivity c-reactive protein ( hscrp ) were measured .',\n",
       "  'line_number': 5,\n",
       "  'total_lines': 11},\n",
       " {'target': 'RESULTS',\n",
       "  'text': 'there was a clinically relevant reduction in the intervention group compared to the placebo group for knee pain , physical function , pga , and @mwd at @ weeks .',\n",
       "  'line_number': 6,\n",
       "  'total_lines': 11},\n",
       " {'target': 'RESULTS',\n",
       "  'text': 'the mean difference between treatment arms ( @ % ci ) was @ ( @-@ @ ) , p < @ ; @ ( @-@ @ ) , p < @ ; @ ( @-@ @ ) , p < @ ; and @ ( @-@ @ ) , p < @ , respectively .',\n",
       "  'line_number': 7,\n",
       "  'total_lines': 11},\n",
       " {'target': 'RESULTS',\n",
       "  'text': 'further , there was a clinically relevant reduction in the serum levels of il-@ , il-@ , tnf - , and hscrp at @ weeks in the intervention group when compared to the placebo group .',\n",
       "  'line_number': 8,\n",
       "  'total_lines': 11},\n",
       " {'target': 'RESULTS',\n",
       "  'text': 'these differences remained significant at @ weeks .',\n",
       "  'line_number': 9,\n",
       "  'total_lines': 11}]"
      ]
     },
     "execution_count": 14,
     "metadata": {},
     "output_type": "execute_result"
    }
   ],
   "source": [
    "# Checking the first abstravt of our training data.\n",
    "train_samples[:10]"
   ]
  },
  {
   "cell_type": "code",
   "execution_count": 15,
   "id": "82b18e89-7bca-4dc9-9840-5b2c163e45ed",
   "metadata": {},
   "outputs": [
    {
     "data": {
      "text/html": [
       "<div>\n",
       "<style scoped>\n",
       "    .dataframe tbody tr th:only-of-type {\n",
       "        vertical-align: middle;\n",
       "    }\n",
       "\n",
       "    .dataframe tbody tr th {\n",
       "        vertical-align: top;\n",
       "    }\n",
       "\n",
       "    .dataframe thead th {\n",
       "        text-align: right;\n",
       "    }\n",
       "</style>\n",
       "<table border=\"1\" class=\"dataframe\">\n",
       "  <thead>\n",
       "    <tr style=\"text-align: right;\">\n",
       "      <th></th>\n",
       "      <th>target</th>\n",
       "      <th>text</th>\n",
       "      <th>line_number</th>\n",
       "      <th>total_lines</th>\n",
       "    </tr>\n",
       "  </thead>\n",
       "  <tbody>\n",
       "    <tr>\n",
       "      <th>0</th>\n",
       "      <td>OBJECTIVE</td>\n",
       "      <td>to investigate the efficacy of @ weeks of dail...</td>\n",
       "      <td>0</td>\n",
       "      <td>11</td>\n",
       "    </tr>\n",
       "    <tr>\n",
       "      <th>1</th>\n",
       "      <td>METHODS</td>\n",
       "      <td>a total of @ patients with primary knee oa wer...</td>\n",
       "      <td>1</td>\n",
       "      <td>11</td>\n",
       "    </tr>\n",
       "    <tr>\n",
       "      <th>2</th>\n",
       "      <td>METHODS</td>\n",
       "      <td>outcome measures included pain reduction and i...</td>\n",
       "      <td>2</td>\n",
       "      <td>11</td>\n",
       "    </tr>\n",
       "    <tr>\n",
       "      <th>3</th>\n",
       "      <td>METHODS</td>\n",
       "      <td>pain was assessed using the visual analog pain...</td>\n",
       "      <td>3</td>\n",
       "      <td>11</td>\n",
       "    </tr>\n",
       "    <tr>\n",
       "      <th>4</th>\n",
       "      <td>METHODS</td>\n",
       "      <td>secondary outcome measures included the wester...</td>\n",
       "      <td>4</td>\n",
       "      <td>11</td>\n",
       "    </tr>\n",
       "    <tr>\n",
       "      <th>5</th>\n",
       "      <td>METHODS</td>\n",
       "      <td>serum levels of interleukin @ ( il-@ ) , il-@ ...</td>\n",
       "      <td>5</td>\n",
       "      <td>11</td>\n",
       "    </tr>\n",
       "    <tr>\n",
       "      <th>6</th>\n",
       "      <td>RESULTS</td>\n",
       "      <td>there was a clinically relevant reduction in t...</td>\n",
       "      <td>6</td>\n",
       "      <td>11</td>\n",
       "    </tr>\n",
       "    <tr>\n",
       "      <th>7</th>\n",
       "      <td>RESULTS</td>\n",
       "      <td>the mean difference between treatment arms ( @...</td>\n",
       "      <td>7</td>\n",
       "      <td>11</td>\n",
       "    </tr>\n",
       "    <tr>\n",
       "      <th>8</th>\n",
       "      <td>RESULTS</td>\n",
       "      <td>further , there was a clinically relevant redu...</td>\n",
       "      <td>8</td>\n",
       "      <td>11</td>\n",
       "    </tr>\n",
       "    <tr>\n",
       "      <th>9</th>\n",
       "      <td>RESULTS</td>\n",
       "      <td>these differences remained significant at @ we...</td>\n",
       "      <td>9</td>\n",
       "      <td>11</td>\n",
       "    </tr>\n",
       "  </tbody>\n",
       "</table>\n",
       "</div>"
      ],
      "text/plain": [
       "      target                                               text  line_number  \\\n",
       "0  OBJECTIVE  to investigate the efficacy of @ weeks of dail...            0   \n",
       "1    METHODS  a total of @ patients with primary knee oa wer...            1   \n",
       "2    METHODS  outcome measures included pain reduction and i...            2   \n",
       "3    METHODS  pain was assessed using the visual analog pain...            3   \n",
       "4    METHODS  secondary outcome measures included the wester...            4   \n",
       "5    METHODS  serum levels of interleukin @ ( il-@ ) , il-@ ...            5   \n",
       "6    RESULTS  there was a clinically relevant reduction in t...            6   \n",
       "7    RESULTS  the mean difference between treatment arms ( @...            7   \n",
       "8    RESULTS  further , there was a clinically relevant redu...            8   \n",
       "9    RESULTS  these differences remained significant at @ we...            9   \n",
       "\n",
       "   total_lines  \n",
       "0           11  \n",
       "1           11  \n",
       "2           11  \n",
       "3           11  \n",
       "4           11  \n",
       "5           11  \n",
       "6           11  \n",
       "7           11  \n",
       "8           11  \n",
       "9           11  "
      ]
     },
     "execution_count": 15,
     "metadata": {},
     "output_type": "execute_result"
    }
   ],
   "source": [
    "# Turning the data from dictionaries into DataFrames.\n",
    "train_df = pd.DataFrame(train_samples)\n",
    "val_df = pd.DataFrame(val_samples)\n",
    "test_df = pd.DataFrame(test_samples)\n",
    "\n",
    "train_df.head(10)"
   ]
  },
  {
   "cell_type": "code",
   "execution_count": 16,
   "id": "fba630e9-83bd-46dd-95b9-d2e0b320ef2a",
   "metadata": {},
   "outputs": [
    {
     "data": {
      "text/plain": [
       "target\n",
       "METHODS        59353\n",
       "RESULTS        57953\n",
       "CONCLUSIONS    27168\n",
       "BACKGROUND     21727\n",
       "OBJECTIVE      13839\n",
       "Name: count, dtype: int64"
      ]
     },
     "execution_count": 16,
     "metadata": {},
     "output_type": "execute_result"
    }
   ],
   "source": [
    "# Distribution of labels in training dataset.\n",
    "train_df.target.value_counts()"
   ]
  },
  {
   "cell_type": "code",
   "execution_count": 17,
   "id": "79861cf3-0c78-4c7a-8b1d-492c096356ac",
   "metadata": {},
   "outputs": [
    {
     "data": {
      "image/png": "[encoded data removed]",
      "text/plain": [
       "<Figure size 640x480 with 1 Axes>"
      ]
     },
     "metadata": {},
     "output_type": "display_data"
    }
   ],
   "source": [
    "# Checking the length of different lines\n",
    "train_df.total_lines.plot.hist();"
   ]
  },
  {
   "cell_type": "markdown",
   "id": "71ecff6c-f92b-4425-bed4-6be6e76fde96",
   "metadata": {},
   "source": [
    "### Get lists of sentences"
   ]
  },
  {
   "cell_type": "code",
   "execution_count": 18,
   "id": "b700b63d-989a-4e54-9aa6-ad8da010a63e",
   "metadata": {},
   "outputs": [
    {
     "name": "stdout",
     "output_type": "stream",
     "text": [
      "180040 30212 30135\n"
     ]
    }
   ],
   "source": [
    "# Converting abstract text lines into lists\n",
    "train_sentences = train_df[\"text\"].tolist()\n",
    "val_sentences = val_df[\"text\"].tolist()\n",
    "test_sentences = test_df[\"text\"].tolist()\n",
    "print(len(train_sentences), len(val_sentences), len(test_sentences))"
   ]
  },
  {
   "cell_type": "code",
   "execution_count": 19,
   "id": "eedc0960-63a3-49a2-ac9d-98e92edd0a0e",
   "metadata": {},
   "outputs": [
    {
     "data": {
      "text/plain": [
       "['to investigate the efficacy of @ weeks of daily low-dose oral prednisolone in improving pain , mobility , and systemic low-grade inflammation in the short term and whether the effect would be sustained at @ weeks in older adults with moderate to severe knee osteoarthritis ( oa ) .',\n",
       " 'a total of @ patients with primary knee oa were randomized @:@ ; @ received @ mg/day of prednisolone and @ received placebo for @ weeks .',\n",
       " 'outcome measures included pain reduction and improvement in function scores and systemic inflammation markers .',\n",
       " 'pain was assessed using the visual analog pain scale ( @-@ mm ) .',\n",
       " 'secondary outcome measures included the western ontario and mcmaster universities osteoarthritis index scores , patient global assessment ( pga ) of the severity of knee oa , and @-min walk distance ( @mwd ) .',\n",
       " 'serum levels of interleukin @ ( il-@ ) , il-@ , tumor necrosis factor ( tnf ) - , and high-sensitivity c-reactive protein ( hscrp ) were measured .',\n",
       " 'there was a clinically relevant reduction in the intervention group compared to the placebo group for knee pain , physical function , pga , and @mwd at @ weeks .',\n",
       " 'the mean difference between treatment arms ( @ % ci ) was @ ( @-@ @ ) , p < @ ; @ ( @-@ @ ) , p < @ ; @ ( @-@ @ ) , p < @ ; and @ ( @-@ @ ) , p < @ , respectively .',\n",
       " 'further , there was a clinically relevant reduction in the serum levels of il-@ , il-@ , tnf - , and hscrp at @ weeks in the intervention group when compared to the placebo group .',\n",
       " 'these differences remained significant at @ weeks .']"
      ]
     },
     "execution_count": 19,
     "metadata": {},
     "output_type": "execute_result"
    }
   ],
   "source": [
    "# View the first lines of sentences\n",
    "train_sentences[:10]"
   ]
  },
  {
   "cell_type": "markdown",
   "id": "57248c87-58a5-4f63-954c-60bb0bda9521",
   "metadata": {},
   "source": [
    "### Making numerical labels (ML models required numeric labels)"
   ]
  },
  {
   "cell_type": "code",
   "execution_count": 20,
   "id": "473e61c3-9bd2-4f06-bd8a-1752b58c7e41",
   "metadata": {},
   "outputs": [
    {
     "data": {
      "text/plain": [
       "array([[0., 0., 0., 1., 0.],\n",
       "       [0., 0., 1., 0., 0.],\n",
       "       [0., 0., 1., 0., 0.],\n",
       "       ...,\n",
       "       [0., 0., 0., 0., 1.],\n",
       "       [0., 1., 0., 0., 0.],\n",
       "       [0., 1., 0., 0., 0.]])"
      ]
     },
     "execution_count": 20,
     "metadata": {},
     "output_type": "execute_result"
    }
   ],
   "source": [
    "# One hot encoding lables.\n",
    "from sklearn.preprocessing import OneHotEncoder\n",
    "one_hot_encoder = OneHotEncoder(sparse_output = False)\n",
    "train_labels_one_hot = one_hot_encoder.fit_transform(train_df[\"target\"].to_numpy().reshape(-1, 1))\n",
    "val_labels_one_hot = one_hot_encoder.transform(val_df[\"target\"].to_numpy().reshape(-1, 1))\n",
    "test_labels_one_hot = one_hot_encoder.transform(test_df[\"target\"].to_numpy().reshape(-1, 1))\n",
    "\n",
    "# Checking what one hot encoder labels look like.\n",
    "train_labels_one_hot"
   ]
  },
  {
   "cell_type": "markdown",
   "id": "eaaa6cb0-7779-4048-87de-c4465843074f",
   "metadata": {},
   "source": [
    "### Labeling above encoding labels"
   ]
  },
  {
   "cell_type": "code",
   "execution_count": 21,
   "id": "b8c0ecc9-f852-40ca-8df0-e938b6bb4a81",
   "metadata": {},
   "outputs": [
    {
     "data": {
      "text/plain": [
       "array([3, 2, 2, ..., 4, 1, 1])"
      ]
     },
     "execution_count": 21,
     "metadata": {},
     "output_type": "execute_result"
    }
   ],
   "source": [
    "# Extracting labels (\"targets\" columns) and encode them into integers\n",
    "from sklearn.preprocessing import LabelEncoder\n",
    "le = LabelEncoder()\n",
    "train_labels_encoded = le.fit_transform(train_df[\"target\"].to_numpy().reshape(-1, 1))\n",
    "val_labels_encoded = le.transform(val_df[\"target\"].to_numpy().reshape(-1, 1))\n",
    "test_labels_encoded = le.fit_transform(test_df[\"target\"].to_numpy().reshape(-1, 1))\n",
    "\n",
    "train_labels_encoded"
   ]
  },
  {
   "cell_type": "code",
   "execution_count": 22,
   "id": "81e03f67-d40b-4425-b00a-2ec93d12431f",
   "metadata": {},
   "outputs": [
    {
     "name": "stdout",
     "output_type": "stream",
     "text": [
      "Number of Classes: 5\n",
      "Class Names: ['BACKGROUND' 'CONCLUSIONS' 'METHODS' 'OBJECTIVE' 'RESULTS']\n"
     ]
    }
   ],
   "source": [
    "# Getting class names and number of classes from LabelEncoder instance\n",
    "num_classes = len(le.classes_)\n",
    "class_names = le.classes_\n",
    "print(f\"Number of Classes: {num_classes}\\nClass Names: {class_names}\")"
   ]
  },
  {
   "cell_type": "markdown",
   "id": "9a0202fc-166c-4b41-b18e-b2d13b0eddf4",
   "metadata": {},
   "source": [
    "## Starting Modeling Experiments"
   ]
  },
  {
   "cell_type": "markdown",
   "id": "74c5be23-347a-4c87-afa5-6390e0fa939e",
   "metadata": {},
   "source": [
    "### Model 0: Naive Bayes with TF-IDF encoder (Baseline)"
   ]
  },
  {
   "cell_type": "code",
   "execution_count": 23,
   "id": "81412268-7c79-49c7-92f9-dcf53b87dac2",
   "metadata": {},
   "outputs": [
    {
     "data": {
      "text/html": [
       "<style>#sk-container-id-1 {\n",
       "  /* Definition of color scheme common for light and dark mode */\n",
       "  --sklearn-color-text: black;\n",
       "  --sklearn-color-line: gray;\n",
       "  /* Definition of color scheme for unfitted estimators */\n",
       "  --sklearn-color-unfitted-level-0: #fff5e6;\n",
       "  --sklearn-color-unfitted-level-1: #f6e4d2;\n",
       "  --sklearn-color-unfitted-level-2: #ffe0b3;\n",
       "  --sklearn-color-unfitted-level-3: chocolate;\n",
       "  /* Definition of color scheme for fitted estimators */\n",
       "  --sklearn-color-fitted-level-0: #f0f8ff;\n",
       "  --sklearn-color-fitted-level-1: #d4ebff;\n",
       "  --sklearn-color-fitted-level-2: #b3dbfd;\n",
       "  --sklearn-color-fitted-level-3: cornflowerblue;\n",
       "\n",
       "  /* Specific color for light theme */\n",
       "  --sklearn-color-text-on-default-background: var(--sg-text-color, var(--theme-code-foreground, var(--jp-content-font-color1, black)));\n",
       "  --sklearn-color-background: var(--sg-background-color, var(--theme-background, var(--jp-layout-color0, white)));\n",
       "  --sklearn-color-border-box: var(--sg-text-color, var(--theme-code-foreground, var(--jp-content-font-color1, black)));\n",
       "  --sklearn-color-icon: #696969;\n",
       "\n",
       "  @media (prefers-color-scheme: dark) {\n",
       "    /* Redefinition of color scheme for dark theme */\n",
       "    --sklearn-color-text-on-default-background: var(--sg-text-color, var(--theme-code-foreground, var(--jp-content-font-color1, white)));\n",
       "    --sklearn-color-background: var(--sg-background-color, var(--theme-background, var(--jp-layout-color0, #111)));\n",
       "    --sklearn-color-border-box: var(--sg-text-color, var(--theme-code-foreground, var(--jp-content-font-color1, white)));\n",
       "    --sklearn-color-icon: #878787;\n",
       "  }\n",
       "}\n",
       "\n",
       "#sk-container-id-1 {\n",
       "  color: var(--sklearn-color-text);\n",
       "}\n",
       "\n",
       "#sk-container-id-1 pre {\n",
       "  padding: 0;\n",
       "}\n",
       "\n",
       "#sk-container-id-1 input.sk-hidden--visually {\n",
       "  border: 0;\n",
       "  clip: rect(1px 1px 1px 1px);\n",
       "  clip: rect(1px, 1px, 1px, 1px);\n",
       "  height: 1px;\n",
       "  margin: -1px;\n",
       "  overflow: hidden;\n",
       "  padding: 0;\n",
       "  position: absolute;\n",
       "  width: 1px;\n",
       "}\n",
       "\n",
       "#sk-container-id-1 div.sk-dashed-wrapped {\n",
       "  border: 1px dashed var(--sklearn-color-line);\n",
       "  margin: 0 0.4em 0.5em 0.4em;\n",
       "  box-sizing: border-box;\n",
       "  padding-bottom: 0.4em;\n",
       "  background-color: var(--sklearn-color-background);\n",
       "}\n",
       "\n",
       "#sk-container-id-1 div.sk-container {\n",
       "  /* jupyter's `normalize.less` sets `[hidden] { display: none; }`\n",
       "     but bootstrap.min.css set `[hidden] { display: none !important; }`\n",
       "     so we also need the `!important` here to be able to override the\n",
       "     default hidden behavior on the sphinx rendered scikit-learn.org.\n",
       "     See: https://github.com/scikit-learn/scikit-learn/issues/21755 */\n",
       "  display: inline-block !important;\n",
       "  position: relative;\n",
       "}\n",
       "\n",
       "#sk-container-id-1 div.sk-text-repr-fallback {\n",
       "  display: none;\n",
       "}\n",
       "\n",
       "div.sk-parallel-item,\n",
       "div.sk-serial,\n",
       "div.sk-item {\n",
       "  /* draw centered vertical line to link estimators */\n",
       "  background-image: linear-gradient(var(--sklearn-color-text-on-default-background), var(--sklearn-color-text-on-default-background));\n",
       "  background-size: 2px 100%;\n",
       "  background-repeat: no-repeat;\n",
       "  background-position: center center;\n",
       "}\n",
       "\n",
       "/* Parallel-specific style estimator block */\n",
       "\n",
       "#sk-container-id-1 div.sk-parallel-item::after {\n",
       "  content: \"\";\n",
       "  width: 100%;\n",
       "  border-bottom: 2px solid var(--sklearn-color-text-on-default-background);\n",
       "  flex-grow: 1;\n",
       "}\n",
       "\n",
       "#sk-container-id-1 div.sk-parallel {\n",
       "  display: flex;\n",
       "  align-items: stretch;\n",
       "  justify-content: center;\n",
       "  background-color: var(--sklearn-color-background);\n",
       "  position: relative;\n",
       "}\n",
       "\n",
       "#sk-container-id-1 div.sk-parallel-item {\n",
       "  display: flex;\n",
       "  flex-direction: column;\n",
       "}\n",
       "\n",
       "#sk-container-id-1 div.sk-parallel-item:first-child::after {\n",
       "  align-self: flex-end;\n",
       "  width: 50%;\n",
       "}\n",
       "\n",
       "#sk-container-id-1 div.sk-parallel-item:last-child::after {\n",
       "  align-self: flex-start;\n",
       "  width: 50%;\n",
       "}\n",
       "\n",
       "#sk-container-id-1 div.sk-parallel-item:only-child::after {\n",
       "  width: 0;\n",
       "}\n",
       "\n",
       "/* Serial-specific style estimator block */\n",
       "\n",
       "#sk-container-id-1 div.sk-serial {\n",
       "  display: flex;\n",
       "  flex-direction: column;\n",
       "  align-items: center;\n",
       "  background-color: var(--sklearn-color-background);\n",
       "  padding-right: 1em;\n",
       "  padding-left: 1em;\n",
       "}\n",
       "\n",
       "\n",
       "/* Toggleable style: style used for estimator/Pipeline/ColumnTransformer box that is\n",
       "clickable and can be expanded/collapsed.\n",
       "- Pipeline and ColumnTransformer use this feature and define the default style\n",
       "- Estimators will overwrite some part of the style using the `sk-estimator` class\n",
       "*/\n",
       "\n",
       "/* Pipeline and ColumnTransformer style (default) */\n",
       "\n",
       "#sk-container-id-1 div.sk-toggleable {\n",
       "  /* Default theme specific background. It is overwritten whether we have a\n",
       "  specific estimator or a Pipeline/ColumnTransformer */\n",
       "  background-color: var(--sklearn-color-background);\n",
       "}\n",
       "\n",
       "/* Toggleable label */\n",
       "#sk-container-id-1 label.sk-toggleable__label {\n",
       "  cursor: pointer;\n",
       "  display: block;\n",
       "  width: 100%;\n",
       "  margin-bottom: 0;\n",
       "  padding: 0.5em;\n",
       "  box-sizing: border-box;\n",
       "  text-align: center;\n",
       "}\n",
       "\n",
       "#sk-container-id-1 label.sk-toggleable__label-arrow:before {\n",
       "  /* Arrow on the left of the label */\n",
       "  content: \"▸\";\n",
       "  float: left;\n",
       "  margin-right: 0.25em;\n",
       "  color: var(--sklearn-color-icon);\n",
       "}\n",
       "\n",
       "#sk-container-id-1 label.sk-toggleable__label-arrow:hover:before {\n",
       "  color: var(--sklearn-color-text);\n",
       "}\n",
       "\n",
       "/* Toggleable content - dropdown */\n",
       "\n",
       "#sk-container-id-1 div.sk-toggleable__content {\n",
       "  max-height: 0;\n",
       "  max-width: 0;\n",
       "  overflow: hidden;\n",
       "  text-align: left;\n",
       "  /* unfitted */\n",
       "  background-color: var(--sklearn-color-unfitted-level-0);\n",
       "}\n",
       "\n",
       "#sk-container-id-1 div.sk-toggleable__content.fitted {\n",
       "  /* fitted */\n",
       "  background-color: var(--sklearn-color-fitted-level-0);\n",
       "}\n",
       "\n",
       "#sk-container-id-1 div.sk-toggleable__content pre {\n",
       "  margin: 0.2em;\n",
       "  border-radius: 0.25em;\n",
       "  color: var(--sklearn-color-text);\n",
       "  /* unfitted */\n",
       "  background-color: var(--sklearn-color-unfitted-level-0);\n",
       "}\n",
       "\n",
       "#sk-container-id-1 div.sk-toggleable__content.fitted pre {\n",
       "  /* unfitted */\n",
       "  background-color: var(--sklearn-color-fitted-level-0);\n",
       "}\n",
       "\n",
       "#sk-container-id-1 input.sk-toggleable__control:checked~div.sk-toggleable__content {\n",
       "  /* Expand drop-down */\n",
       "  max-height: 200px;\n",
       "  max-width: 100%;\n",
       "  overflow: auto;\n",
       "}\n",
       "\n",
       "#sk-container-id-1 input.sk-toggleable__control:checked~label.sk-toggleable__label-arrow:before {\n",
       "  content: \"▾\";\n",
       "}\n",
       "\n",
       "/* Pipeline/ColumnTransformer-specific style */\n",
       "\n",
       "#sk-container-id-1 div.sk-label input.sk-toggleable__control:checked~label.sk-toggleable__label {\n",
       "  color: var(--sklearn-color-text);\n",
       "  background-color: var(--sklearn-color-unfitted-level-2);\n",
       "}\n",
       "\n",
       "#sk-container-id-1 div.sk-label.fitted input.sk-toggleable__control:checked~label.sk-toggleable__label {\n",
       "  background-color: var(--sklearn-color-fitted-level-2);\n",
       "}\n",
       "\n",
       "/* Estimator-specific style */\n",
       "\n",
       "/* Colorize estimator box */\n",
       "#sk-container-id-1 div.sk-estimator input.sk-toggleable__control:checked~label.sk-toggleable__label {\n",
       "  /* unfitted */\n",
       "  background-color: var(--sklearn-color-unfitted-level-2);\n",
       "}\n",
       "\n",
       "#sk-container-id-1 div.sk-estimator.fitted input.sk-toggleable__control:checked~label.sk-toggleable__label {\n",
       "  /* fitted */\n",
       "  background-color: var(--sklearn-color-fitted-level-2);\n",
       "}\n",
       "\n",
       "#sk-container-id-1 div.sk-label label.sk-toggleable__label,\n",
       "#sk-container-id-1 div.sk-label label {\n",
       "  /* The background is the default theme color */\n",
       "  color: var(--sklearn-color-text-on-default-background);\n",
       "}\n",
       "\n",
       "/* On hover, darken the color of the background */\n",
       "#sk-container-id-1 div.sk-label:hover label.sk-toggleable__label {\n",
       "  color: var(--sklearn-color-text);\n",
       "  background-color: var(--sklearn-color-unfitted-level-2);\n",
       "}\n",
       "\n",
       "/* Label box, darken color on hover, fitted */\n",
       "#sk-container-id-1 div.sk-label.fitted:hover label.sk-toggleable__label.fitted {\n",
       "  color: var(--sklearn-color-text);\n",
       "  background-color: var(--sklearn-color-fitted-level-2);\n",
       "}\n",
       "\n",
       "/* Estimator label */\n",
       "\n",
       "#sk-container-id-1 div.sk-label label {\n",
       "  font-family: monospace;\n",
       "  font-weight: bold;\n",
       "  display: inline-block;\n",
       "  line-height: 1.2em;\n",
       "}\n",
       "\n",
       "#sk-container-id-1 div.sk-label-container {\n",
       "  text-align: center;\n",
       "}\n",
       "\n",
       "/* Estimator-specific */\n",
       "#sk-container-id-1 div.sk-estimator {\n",
       "  font-family: monospace;\n",
       "  border: 1px dotted var(--sklearn-color-border-box);\n",
       "  border-radius: 0.25em;\n",
       "  box-sizing: border-box;\n",
       "  margin-bottom: 0.5em;\n",
       "  /* unfitted */\n",
       "  background-color: var(--sklearn-color-unfitted-level-0);\n",
       "}\n",
       "\n",
       "#sk-container-id-1 div.sk-estimator.fitted {\n",
       "  /* fitted */\n",
       "  background-color: var(--sklearn-color-fitted-level-0);\n",
       "}\n",
       "\n",
       "/* on hover */\n",
       "#sk-container-id-1 div.sk-estimator:hover {\n",
       "  /* unfitted */\n",
       "  background-color: var(--sklearn-color-unfitted-level-2);\n",
       "}\n",
       "\n",
       "#sk-container-id-1 div.sk-estimator.fitted:hover {\n",
       "  /* fitted */\n",
       "  background-color: var(--sklearn-color-fitted-level-2);\n",
       "}\n",
       "\n",
       "/* Specification for estimator info (e.g. \"i\" and \"?\") */\n",
       "\n",
       "/* Common style for \"i\" and \"?\" */\n",
       "\n",
       ".sk-estimator-doc-link,\n",
       "a:link.sk-estimator-doc-link,\n",
       "a:visited.sk-estimator-doc-link {\n",
       "  float: right;\n",
       "  font-size: smaller;\n",
       "  line-height: 1em;\n",
       "  font-family: monospace;\n",
       "  background-color: var(--sklearn-color-background);\n",
       "  border-radius: 1em;\n",
       "  height: 1em;\n",
       "  width: 1em;\n",
       "  text-decoration: none !important;\n",
       "  margin-left: 1ex;\n",
       "  /* unfitted */\n",
       "  border: var(--sklearn-color-unfitted-level-1) 1pt solid;\n",
       "  color: var(--sklearn-color-unfitted-level-1);\n",
       "}\n",
       "\n",
       ".sk-estimator-doc-link.fitted,\n",
       "a:link.sk-estimator-doc-link.fitted,\n",
       "a:visited.sk-estimator-doc-link.fitted {\n",
       "  /* fitted */\n",
       "  border: var(--sklearn-color-fitted-level-1) 1pt solid;\n",
       "  color: var(--sklearn-color-fitted-level-1);\n",
       "}\n",
       "\n",
       "/* On hover */\n",
       "div.sk-estimator:hover .sk-estimator-doc-link:hover,\n",
       ".sk-estimator-doc-link:hover,\n",
       "div.sk-label-container:hover .sk-estimator-doc-link:hover,\n",
       ".sk-estimator-doc-link:hover {\n",
       "  /* unfitted */\n",
       "  background-color: var(--sklearn-color-unfitted-level-3);\n",
       "  color: var(--sklearn-color-background);\n",
       "  text-decoration: none;\n",
       "}\n",
       "\n",
       "div.sk-estimator.fitted:hover .sk-estimator-doc-link.fitted:hover,\n",
       ".sk-estimator-doc-link.fitted:hover,\n",
       "div.sk-label-container:hover .sk-estimator-doc-link.fitted:hover,\n",
       ".sk-estimator-doc-link.fitted:hover {\n",
       "  /* fitted */\n",
       "  background-color: var(--sklearn-color-fitted-level-3);\n",
       "  color: var(--sklearn-color-background);\n",
       "  text-decoration: none;\n",
       "}\n",
       "\n",
       "/* Span, style for the box shown on hovering the info icon */\n",
       ".sk-estimator-doc-link span {\n",
       "  display: none;\n",
       "  z-index: 9999;\n",
       "  position: relative;\n",
       "  font-weight: normal;\n",
       "  right: .2ex;\n",
       "  padding: .5ex;\n",
       "  margin: .5ex;\n",
       "  width: min-content;\n",
       "  min-width: 20ex;\n",
       "  max-width: 50ex;\n",
       "  color: var(--sklearn-color-text);\n",
       "  box-shadow: 2pt 2pt 4pt #999;\n",
       "  /* unfitted */\n",
       "  background: var(--sklearn-color-unfitted-level-0);\n",
       "  border: .5pt solid var(--sklearn-color-unfitted-level-3);\n",
       "}\n",
       "\n",
       ".sk-estimator-doc-link.fitted span {\n",
       "  /* fitted */\n",
       "  background: var(--sklearn-color-fitted-level-0);\n",
       "  border: var(--sklearn-color-fitted-level-3);\n",
       "}\n",
       "\n",
       ".sk-estimator-doc-link:hover span {\n",
       "  display: block;\n",
       "}\n",
       "\n",
       "/* \"?\"-specific style due to the `<a>` HTML tag */\n",
       "\n",
       "#sk-container-id-1 a.estimator_doc_link {\n",
       "  float: right;\n",
       "  font-size: 1rem;\n",
       "  line-height: 1em;\n",
       "  font-family: monospace;\n",
       "  background-color: var(--sklearn-color-background);\n",
       "  border-radius: 1rem;\n",
       "  height: 1rem;\n",
       "  width: 1rem;\n",
       "  text-decoration: none;\n",
       "  /* unfitted */\n",
       "  color: var(--sklearn-color-unfitted-level-1);\n",
       "  border: var(--sklearn-color-unfitted-level-1) 1pt solid;\n",
       "}\n",
       "\n",
       "#sk-container-id-1 a.estimator_doc_link.fitted {\n",
       "  /* fitted */\n",
       "  border: var(--sklearn-color-fitted-level-1) 1pt solid;\n",
       "  color: var(--sklearn-color-fitted-level-1);\n",
       "}\n",
       "\n",
       "/* On hover */\n",
       "#sk-container-id-1 a.estimator_doc_link:hover {\n",
       "  /* unfitted */\n",
       "  background-color: var(--sklearn-color-unfitted-level-3);\n",
       "  color: var(--sklearn-color-background);\n",
       "  text-decoration: none;\n",
       "}\n",
       "\n",
       "#sk-container-id-1 a.estimator_doc_link.fitted:hover {\n",
       "  /* fitted */\n",
       "  background-color: var(--sklearn-color-fitted-level-3);\n",
       "}\n",
       "</style><div id=\"sk-container-id-1\" class=\"sk-top-container\"><div class=\"sk-text-repr-fallback\"><pre>Pipeline(steps=[(&#x27;tfidf&#x27;, TfidfVectorizer()), (&#x27;clf&#x27;, MultinomialNB())])</pre><b>In a Jupyter environment, please rerun this cell to show the HTML representation or trust the notebook. <br />On GitHub, the HTML representation is unable to render, please try loading this page with nbviewer.org.</b></div><div class=\"sk-container\" hidden><div class=\"sk-item sk-dashed-wrapped\"><div class=\"sk-label-container\"><div class=\"sk-label fitted sk-toggleable\"><input class=\"sk-toggleable__control sk-hidden--visually\" id=\"sk-estimator-id-1\" type=\"checkbox\" ><label for=\"sk-estimator-id-1\" class=\"sk-toggleable__label fitted sk-toggleable__label-arrow fitted\">&nbsp;&nbsp;Pipeline<a class=\"sk-estimator-doc-link fitted\" rel=\"noreferrer\" target=\"_blank\" href=\"https://scikit-learn.org/1.5/modules/generated/sklearn.pipeline.Pipeline.html\">?<span>Documentation for Pipeline</span></a><span class=\"sk-estimator-doc-link fitted\">i<span>Fitted</span></span></label><div class=\"sk-toggleable__content fitted\"><pre>Pipeline(steps=[(&#x27;tfidf&#x27;, TfidfVectorizer()), (&#x27;clf&#x27;, MultinomialNB())])</pre></div> </div></div><div class=\"sk-serial\"><div class=\"sk-item\"><div class=\"sk-estimator fitted sk-toggleable\"><input class=\"sk-toggleable__control sk-hidden--visually\" id=\"sk-estimator-id-2\" type=\"checkbox\" ><label for=\"sk-estimator-id-2\" class=\"sk-toggleable__label fitted sk-toggleable__label-arrow fitted\">&nbsp;TfidfVectorizer<a class=\"sk-estimator-doc-link fitted\" rel=\"noreferrer\" target=\"_blank\" href=\"https://scikit-learn.org/1.5/modules/generated/sklearn.feature_extraction.text.TfidfVectorizer.html\">?<span>Documentation for TfidfVectorizer</span></a></label><div class=\"sk-toggleable__content fitted\"><pre>TfidfVectorizer()</pre></div> </div></div><div class=\"sk-item\"><div class=\"sk-estimator fitted sk-toggleable\"><input class=\"sk-toggleable__control sk-hidden--visually\" id=\"sk-estimator-id-3\" type=\"checkbox\" ><label for=\"sk-estimator-id-3\" class=\"sk-toggleable__label fitted sk-toggleable__label-arrow fitted\">&nbsp;MultinomialNB<a class=\"sk-estimator-doc-link fitted\" rel=\"noreferrer\" target=\"_blank\" href=\"https://scikit-learn.org/1.5/modules/generated/sklearn.naive_bayes.MultinomialNB.html\">?<span>Documentation for MultinomialNB</span></a></label><div class=\"sk-toggleable__content fitted\"><pre>MultinomialNB()</pre></div> </div></div></div></div></div></div>"
      ],
      "text/plain": [
       "Pipeline(steps=[('tfidf', TfidfVectorizer()), ('clf', MultinomialNB())])"
      ]
     },
     "execution_count": 23,
     "metadata": {},
     "output_type": "execute_result"
    }
   ],
   "source": [
    "from sklearn.feature_extraction.text import TfidfVectorizer\n",
    "from sklearn.naive_bayes import MultinomialNB\n",
    "from sklearn.pipeline import Pipeline\n",
    "\n",
    "# Creates tokenization and modeling pipeline.\n",
    "model_0 = Pipeline([\n",
    "    (\"tfidf\", TfidfVectorizer()), # converts words to numbers using tfidf\n",
    "    (\"clf\", MultinomialNB()) # model the text\n",
    "])\n",
    "\n",
    "# Fits the pipeline to the training data.\n",
    "model_0.fit(train_sentences, train_labels_encoded)"
   ]
  },
  {
   "cell_type": "code",
   "execution_count": 24,
   "id": "f355e5f6-0421-46ea-bef5-6da103ee36e2",
   "metadata": {},
   "outputs": [
    {
     "name": "stdout",
     "output_type": "stream",
     "text": [
      "Our baseline model achieves an accuracy of: 72.18%\n"
     ]
    }
   ],
   "source": [
    "# Evaluating baseline model on Validation dataset.\n",
    "baseline_score = model_0.score(val_sentences, val_labels_encoded)\n",
    "print(f\"Our baseline model achieves an accuracy of: {baseline_score*100:.2f}%\")"
   ]
  },
  {
   "cell_type": "code",
   "execution_count": 25,
   "id": "12cd6d50-1f38-4077-a133-d036b696e0ec",
   "metadata": {},
   "outputs": [],
   "source": [
    "# Making some prediction using test dataset.\n",
    "baseline_preds = model_0.predict(val_sentences)"
   ]
  },
  {
   "cell_type": "code",
   "execution_count": 26,
   "id": "556e2311-afd9-4af9-ab00-34b501220399",
   "metadata": {},
   "outputs": [
    {
     "data": {
      "text/plain": [
       "{'accuracy': 72.1832384482987,\n",
       " 'precision': 0.7186466952323352,\n",
       " 'recall': 0.7218323844829869,\n",
       " 'f1': 0.6989250353450294}"
      ]
     },
     "execution_count": 26,
     "metadata": {},
     "output_type": "execute_result"
    }
   ],
   "source": [
    "baseline_results = hf.calculate_results(y_true = val_labels_encoded,\n",
    "                                        y_pred = baseline_preds)\n",
    "baseline_results"
   ]
  },
  {
   "cell_type": "markdown",
   "id": "97d89094-4a98-4854-82b0-31c1afc97d56",
   "metadata": {},
   "source": [
    "### Text Vectorization (tokenization)"
   ]
  },
  {
   "cell_type": "code",
   "execution_count": 27,
   "id": "8f589c05-09ae-4526-87f9-53bc050ffdb8",
   "metadata": {},
   "outputs": [
    {
     "data": {
      "text/plain": [
       "26"
      ]
     },
     "execution_count": 27,
     "metadata": {},
     "output_type": "execute_result"
    }
   ],
   "source": [
    "# Uses the default TextVectorization prameters.\n",
    "text_vectorizer = tf.keras.layers.TextVectorization(max_tokens = None, # how many words in the vocabulary (automatically add <OOV>).\n",
    "                                                    standardize = \"lower_and_strip_punctuation\", # how to process text.\n",
    "                                                    split = \"whitespace\", # how to split tokens.\n",
    "                                                    ngrams = None, # creates groups of n-words?\n",
    "                                                    output_mode = \"int\", # how to map tokens to numbers.\n",
    "                                                    output_sequence_length = None) # how long should the output sequence of tokens be?\n",
    "                                                    # pad_to_max_tokens = True) # Not valid if using max_tokens = None.\n",
    "\n",
    "# Finds the average number of tokens (words) in the training tweets.\n",
    "num_of_words_per_sentence = [len(i.split()) for i in train_sentences]\n",
    "avg_words = round(sum(num_of_words_per_sentence) / len(train_sentences))\n",
    "avg_words"
   ]
  },
  {
   "cell_type": "code",
   "execution_count": 28,
   "id": "7d83ea47-a17f-4a87-accc-6a21da410d21",
   "metadata": {},
   "outputs": [
    {
     "data": {
      "image/png": "[encoded data removed]",
      "text/plain": [
       "<Figure size 640x480 with 1 Axes>"
      ]
     },
     "metadata": {},
     "output_type": "display_data"
    }
   ],
   "source": [
    "# Checking the distribution of words per sentence looks like.\n",
    "\n",
    "plt.hist(num_of_words_per_sentence, bins = 20);"
   ]
  },
  {
   "cell_type": "code",
   "execution_count": 29,
   "id": "cf3647bd-5f10-420d-b8f7-e54077f24094",
   "metadata": {},
   "outputs": [
    {
     "data": {
      "text/plain": [
       "55"
      ]
     },
     "execution_count": 29,
     "metadata": {},
     "output_type": "execute_result"
    }
   ],
   "source": [
    "# Looking for the best number of words, covering the most amount of sentences, particularly for the 95% of all sentences.\n",
    "best_num_of_words_per_sentence = int(np.percentile(num_of_words_per_sentence, 95))\n",
    "best_num_of_words_per_sentence"
   ]
  },
  {
   "cell_type": "code",
   "execution_count": 30,
   "id": "1ad897c4-819b-4d24-9691-0e76b15baa14",
   "metadata": {},
   "outputs": [],
   "source": [
    "max_vocab_length = 68000 # max number of words to have in our vocabulary"
   ]
  },
  {
   "cell_type": "code",
   "execution_count": 31,
   "id": "ee5666ab-57fe-4c8f-958f-eb725bde946f",
   "metadata": {},
   "outputs": [],
   "source": [
    "# Setting up vectorization variables.\n",
    "max_length = best_num_of_words_per_sentence # max length our sequences will be (e.g. how many words from a Tweet does our model see?)\n",
    "\n",
    "text_vectorizer = tf.keras.layers.TextVectorization(max_tokens = None,\n",
    "                                                    output_mode = \"int\", \n",
    "                                                    output_sequence_length = max_length)"
   ]
  },
  {
   "cell_type": "code",
   "execution_count": 32,
   "id": "dbdfb6bf-3113-47ed-8295-c9ee19378c45",
   "metadata": {},
   "outputs": [
    {
     "name": "stdout",
     "output_type": "stream",
     "text": [
      "AttributeError: module 'ml_dtypes' has no attribute 'float4_e2m1fn'\n"
     ]
    }
   ],
   "source": [
    "# Fits the text vectorizer to the training text.\n",
    "text_vectorizer.adapt(train_sentences)"
   ]
  },
  {
   "cell_type": "markdown",
   "id": "1b156048-2e0b-4331-a6dc-7ed87f93afbb",
   "metadata": {},
   "source": [
    "> #### If we want to specify the \"max_tokens\" parameter of TextVectorization(), and we have not a note for length of vocabulary, firstly we setting the \"max_tokens = None\", which means we getting all the existing words.\n",
    "> #### After that we run the following line, which informs us for the amount of words, and if we decide to specify the max_tokens (most common words), we replace the \"None\" value with the preferable number of words."
   ]
  },
  {
   "cell_type": "code",
   "execution_count": 33,
   "id": "5f43bc70-4c7e-4663-a513-c0f3ef465fe4",
   "metadata": {},
   "outputs": [],
   "source": [
    "# Gets all of the unique words in our training data.\n",
    "words_in_vocab = text_vectorizer.get_vocabulary()"
   ]
  },
  {
   "cell_type": "code",
   "execution_count": 34,
   "id": "93f144f6-d1e4-4442-bc56-a41a2b7627f3",
   "metadata": {
    "scrolled": true
   },
   "outputs": [
    {
     "data": {
      "text/plain": [
       "<tf.Tensor: shape=(1, 55), dtype=int64, numpy=\n",
       "array([[   23,    20,     8,   441,  9848,    11,     8,   314,    43,\n",
       "        10055,     0,     0,     0,     0,     0,     0,     0,     0,\n",
       "            0,     0,     0,     0,     0,     0,     0,     0,     0,\n",
       "            0,     0,     0,     0,     0,     0,     0,     0,     0,\n",
       "            0,     0,     0,     0,     0,     0,     0,     0,     0,\n",
       "            0,     0,     0,     0,     0,     0,     0,     0,     0,\n",
       "            0]], dtype=int64)>"
      ]
     },
     "execution_count": 34,
     "metadata": {},
     "output_type": "execute_result"
    }
   ],
   "source": [
    "# Creates sample sentence and tokenize it.\n",
    "sample_sentence = \"This is a sample sentence for a model we build!\"\n",
    "text_vectorizer([sample_sentence])"
   ]
  },
  {
   "cell_type": "code",
   "execution_count": 35,
   "id": "7b4ba919-f37d-499c-a2a6-544c0243fb61",
   "metadata": {},
   "outputs": [
    {
     "name": "stdout",
     "output_type": "stream",
     "text": [
      "Original text: \n",
      "estimated effects of breast-feeding on childhood health vary between studies , possibly due to confounding by baseline maternal and child characteristics .\n",
      "\n",
      "Vectorized version:\n"
     ]
    },
    {
     "data": {
      "text/plain": [
       "<tf.Tensor: shape=(1, 55), dtype=int64, numpy=\n",
       "array([[ 597,   71,    4, 1578,   18, 1527,   97, 3712,   30,  202, 2192,\n",
       "         434,    6, 4911,   22,   49,  823,    3,  734,  395,    0,    0,\n",
       "           0,    0,    0,    0,    0,    0,    0,    0,    0,    0,    0,\n",
       "           0,    0,    0,    0,    0,    0,    0,    0,    0,    0,    0,\n",
       "           0,    0,    0,    0,    0,    0,    0,    0,    0,    0,    0]],\n",
       "      dtype=int64)>"
      ]
     },
     "execution_count": 35,
     "metadata": {},
     "output_type": "execute_result"
    }
   ],
   "source": [
    "# Chooses random sentence from the training dataset and tokenized it.\n",
    "random_sentence = random.choice(train_sentences)\n",
    "print(f\"Original text: \\n{random_sentence}{2*'\\n'}Vectorized version:\")\n",
    "text_vectorizer([random_sentence])"
   ]
  },
  {
   "cell_type": "code",
   "execution_count": 36,
   "id": "5bd7a8dd-8503-49f9-9242-6920b8f73084",
   "metadata": {},
   "outputs": [
    {
     "name": "stdout",
     "output_type": "stream",
     "text": [
      "Number of words in vocabulary: 64841\n",
      "10 Most common words: ['', '[UNK]', 'the', 'and', 'of', 'in', 'to', 'with', 'a', 'were']\n",
      "10 Least common words: ['aarm', 'aaqol', 'aaq', 'aanhui', 'aana', 'aainduced', 'aaigroup', 'aachener', 'aachen', 'aaacp']\n"
     ]
    }
   ],
   "source": [
    "# Getting the unique words in vocabulary.\n",
    "top_10_words = words_in_vocab[:10] # gets the most common words\n",
    "bottom_10_words = words_in_vocab[-10:] # gets the least common words\n",
    "print(f\"Number of words in vocabulary: {len(words_in_vocab)}\")\n",
    "print(f\"10 Most common words: {top_10_words}\")\n",
    "print(f\"10 Least common words: {bottom_10_words}\")"
   ]
  },
  {
   "cell_type": "markdown",
   "id": "3451a16f-9ca5-4559-bd4d-3eef1e7a174a",
   "metadata": {},
   "source": [
    "### Creating an Embedding using Embedding Layer"
   ]
  },
  {
   "cell_type": "code",
   "execution_count": 37,
   "id": "ce702775-8c3b-417d-a051-bcf399cbdd1b",
   "metadata": {},
   "outputs": [],
   "source": [
    "embedding = tf.keras.layers.Embedding(input_dim = len(words_in_vocab), # length of vocabulary / setting the input shape\n",
    "                                      # input_dim = max_vocab_length, # length of vocabulary / setting the input shape\n",
    "                                      output_dim = 128, # setting the output shappe\n",
    "                                      mask_zero = True, # uses masking to handle variable sequence length (save space), better efficient computing basically. \n",
    "                                      # embeddings_initializer = tf.keras.initializers.RandomUniform(),\n",
    "                                      name = \"embedding_1\")"
   ]
  },
  {
   "cell_type": "code",
   "execution_count": 38,
   "id": "93c5532a-e4d5-4654-a0aa-475149b070b7",
   "metadata": {},
   "outputs": [
    {
     "name": "stdout",
     "output_type": "stream",
     "text": [
      "Original text: \n",
      "however , its use in patients with lt and hepatitis c ( hcv ) is controversial .\n",
      "\n",
      "\n",
      "Vectorized text: \n",
      "[[ 140  308   87    5   12    7 4580    3 1363  243 1446   20 3085    0\n",
      "     0    0    0    0    0    0    0    0    0    0    0    0    0    0\n",
      "     0    0    0    0    0    0    0    0    0    0    0    0    0    0\n",
      "     0    0    0    0    0    0    0    0    0    0    0    0    0]]\n",
      "\n",
      "\n",
      "Embedded text: \n",
      "[[[-0.02179405 -0.04357599  0.01537145 ... -0.04679033 -0.04159679\n",
      "    0.02443798]\n",
      "  [ 0.01927758 -0.04133111 -0.03351287 ... -0.02258699  0.01176351\n",
      "   -0.01256771]\n",
      "  [ 0.02606765  0.04039546 -0.01481049 ...  0.04098851 -0.03745676\n",
      "   -0.0190774 ]\n",
      "  ...\n",
      "  [-0.02062271  0.0208516  -0.00437102 ...  0.04133955  0.0082278\n",
      "    0.01562222]\n",
      "  [-0.02062271  0.0208516  -0.00437102 ...  0.04133955  0.0082278\n",
      "    0.01562222]\n",
      "  [-0.02062271  0.0208516  -0.00437102 ...  0.04133955  0.0082278\n",
      "    0.01562222]]]\n",
      "\n",
      "\n",
      "Shape of tensor from embedded text: (1, 55, 128)\n"
     ]
    }
   ],
   "source": [
    "# Getting a random sentence from the training set.\n",
    "random_sentence = random.choice(train_sentences)\n",
    "print(f\"Original text: \\n{random_sentence}{2*'\\n'}\")\n",
    "# Vectorization of random sentence.\n",
    "vect_sent = text_vectorizer([random_sentence])\n",
    "print(f\"Vectorized text: \\n{vect_sent}{2*'\\n'}\")\n",
    "# Embedes the random sentence (turn it into numerical representation).\n",
    "embed_sent = embedding(vect_sent)\n",
    "print(f\"Embedded text: \\n{embed_sent}{2*'\\n'}\")\n",
    "print(f\"Shape of tensor from embedded text: {embed_sent.shape}\")"
   ]
  },
  {
   "cell_type": "markdown",
   "id": "a3c84e47-2d55-4867-97de-0cc4cc8cae53",
   "metadata": {},
   "source": [
    "### Creates datasets (as fast as possible)"
   ]
  },
  {
   "cell_type": "markdown",
   "id": "9ec82aba-27a6-4c93-a54b-98d5b67a4853",
   "metadata": {},
   "source": [
    "> #### https://www.tensorflow.org/guide/data_performance\n",
    "> #### https://www.tensorflow.org/guide/data"
   ]
  },
  {
   "cell_type": "code",
   "execution_count": 39,
   "id": "89befc88-a7e0-4501-84e3-bb6df2f0e5f8",
   "metadata": {},
   "outputs": [
    {
     "data": {
      "text/plain": [
       "<_TensorSliceDataset element_spec=(TensorSpec(shape=(), dtype=tf.string, name=None), TensorSpec(shape=(5,), dtype=tf.float64, name=None))>"
      ]
     },
     "execution_count": 39,
     "metadata": {},
     "output_type": "execute_result"
    }
   ],
   "source": [
    "# Turning data into Tensorflow Datasets.\n",
    "train_dataset = tf.data.Dataset.from_tensor_slices((train_sentences, train_labels_one_hot))\n",
    "valid_dataset = tf.data.Dataset.from_tensor_slices((val_sentences, val_labels_one_hot))\n",
    "test_dataset = tf.data.Dataset.from_tensor_slices((test_sentences, test_labels_one_hot))\n",
    "\n",
    "train_dataset"
   ]
  },
  {
   "cell_type": "code",
   "execution_count": 40,
   "id": "9d3d8391-a6d4-475a-8cd0-6ca6412f0e85",
   "metadata": {},
   "outputs": [
    {
     "data": {
      "text/plain": [
       "<_PrefetchDataset element_spec=(TensorSpec(shape=(None,), dtype=tf.string, name=None), TensorSpec(shape=(None, 5), dtype=tf.float64, name=None))>"
      ]
     },
     "execution_count": 40,
     "metadata": {},
     "output_type": "execute_result"
    }
   ],
   "source": [
    "# Taking the TensorSliceDatasets' and turn them into prefected datasets\n",
    "train_dataset = train_dataset.batch(32).prefetch(tf.data.AUTOTUNE)\n",
    "valid_dataset = valid_dataset.batch(32).prefetch(tf.data.AUTOTUNE)\n",
    "test_dataset = test_dataset.batch(32).prefetch(tf.data.AUTOTUNE)\n",
    "\n",
    "train_dataset"
   ]
  },
  {
   "cell_type": "markdown",
   "id": "e50a5c10-2f92-49a6-a11f-f438c4cff116",
   "metadata": {},
   "source": [
    "### Model 1: Conv1D with token embeddings"
   ]
  },
  {
   "cell_type": "code",
   "execution_count": 41,
   "id": "c8da986a-4765-4d48-bfef-7633bdf09176",
   "metadata": {},
   "outputs": [],
   "source": [
    "# Creating model architecture.\n",
    "inputs = tf.keras.layers.Input(shape = (1, ), dtype = tf.string)\n",
    "text_vectors = text_vectorizer(inputs) # vectorizes text inputs\n",
    "token_embeddings = embedding(text_vectors) # creates embedding\n",
    "x = tf.keras.layers.Conv1D(filters = 64, kernel_size = 5, padding = \"same\", activation = \"relu\")(token_embeddings)\n",
    "x = tf.keras.layers.GlobalAveragePooling1D()(x) # condense the output of out feature vector from conv layer.\n",
    "outputs = tf.keras.layers.Dense(num_classes, activation = \"softmax\")(x)\n",
    "model_1 = tf.keras.Model(inputs, outputs)"
   ]
  },
  {
   "cell_type": "code",
   "execution_count": 42,
   "id": "38887991-50fb-4525-874f-63796cee3d98",
   "metadata": {},
   "outputs": [],
   "source": [
    "# Compiling model.\n",
    "model_1.compile(loss = \"categorical_crossentropy\", \n",
    "                optimizer = tf.keras.optimizers.Adam(), \n",
    "                metrics = [\"accuracy\"])"
   ]
  },
  {
   "cell_type": "code",
   "execution_count": 43,
   "id": "d0bc234b-fbac-4af3-bcb0-e442cc95669b",
   "metadata": {},
   "outputs": [
    {
     "data": {
      "text/html": [
       "<pre style=\"white-space:pre;overflow-x:auto;line-height:normal;font-family:Menlo,'DejaVu Sans Mono',consolas,'Courier New',monospace\"><span style=\"font-weight: bold\">Model: \"functional\"</span>\n",
       "</pre>\n"
      ],
      "text/plain": [
       "\u001b[1mModel: \"functional\"\u001b[0m\n"
      ]
     },
     "metadata": {},
     "output_type": "display_data"
    },
    {
     "data": {
      "text/html": [
       "<pre style=\"white-space:pre;overflow-x:auto;line-height:normal;font-family:Menlo,'DejaVu Sans Mono',consolas,'Courier New',monospace\">┏━━━━━━━━━━━━━━━━━━━━━━━━━━━━━━━━━┳━━━━━━━━━━━━━━━━━━━━━━━━┳━━━━━━━━━━━━━━━┓\n",
       "┃<span style=\"font-weight: bold\"> Layer (type)                    </span>┃<span style=\"font-weight: bold\"> Output Shape           </span>┃<span style=\"font-weight: bold\">       Param # </span>┃\n",
       "┡━━━━━━━━━━━━━━━━━━━━━━━━━━━━━━━━━╇━━━━━━━━━━━━━━━━━━━━━━━━╇━━━━━━━━━━━━━━━┩\n",
       "│ input_layer (<span style=\"color: #0087ff; text-decoration-color: #0087ff\">InputLayer</span>)        │ (<span style=\"color: #00d7ff; text-decoration-color: #00d7ff\">None</span>, <span style=\"color: #00af00; text-decoration-color: #00af00\">1</span>)              │             <span style=\"color: #00af00; text-decoration-color: #00af00\">0</span> │\n",
       "├─────────────────────────────────┼────────────────────────┼───────────────┤\n",
       "│ text_vectorization_1            │ (<span style=\"color: #00d7ff; text-decoration-color: #00d7ff\">None</span>, <span style=\"color: #00af00; text-decoration-color: #00af00\">55</span>)             │             <span style=\"color: #00af00; text-decoration-color: #00af00\">0</span> │\n",
       "│ (<span style=\"color: #0087ff; text-decoration-color: #0087ff\">TextVectorization</span>)             │                        │               │\n",
       "├─────────────────────────────────┼────────────────────────┼───────────────┤\n",
       "│ embedding_1 (<span style=\"color: #0087ff; text-decoration-color: #0087ff\">Embedding</span>)         │ (<span style=\"color: #00d7ff; text-decoration-color: #00d7ff\">None</span>, <span style=\"color: #00af00; text-decoration-color: #00af00\">55</span>, <span style=\"color: #00af00; text-decoration-color: #00af00\">128</span>)        │     <span style=\"color: #00af00; text-decoration-color: #00af00\">8,299,648</span> │\n",
       "├─────────────────────────────────┼────────────────────────┼───────────────┤\n",
       "│ conv1d (<span style=\"color: #0087ff; text-decoration-color: #0087ff\">Conv1D</span>)                 │ (<span style=\"color: #00d7ff; text-decoration-color: #00d7ff\">None</span>, <span style=\"color: #00af00; text-decoration-color: #00af00\">55</span>, <span style=\"color: #00af00; text-decoration-color: #00af00\">64</span>)         │        <span style=\"color: #00af00; text-decoration-color: #00af00\">41,024</span> │\n",
       "├─────────────────────────────────┼────────────────────────┼───────────────┤\n",
       "│ global_average_pooling1d        │ (<span style=\"color: #00d7ff; text-decoration-color: #00d7ff\">None</span>, <span style=\"color: #00af00; text-decoration-color: #00af00\">64</span>)             │             <span style=\"color: #00af00; text-decoration-color: #00af00\">0</span> │\n",
       "│ (<span style=\"color: #0087ff; text-decoration-color: #0087ff\">GlobalAveragePooling1D</span>)        │                        │               │\n",
       "├─────────────────────────────────┼────────────────────────┼───────────────┤\n",
       "│ dense (<span style=\"color: #0087ff; text-decoration-color: #0087ff\">Dense</span>)                   │ (<span style=\"color: #00d7ff; text-decoration-color: #00d7ff\">None</span>, <span style=\"color: #00af00; text-decoration-color: #00af00\">5</span>)              │           <span style=\"color: #00af00; text-decoration-color: #00af00\">325</span> │\n",
       "└─────────────────────────────────┴────────────────────────┴───────────────┘\n",
       "</pre>\n"
      ],
      "text/plain": [
       "┏━━━━━━━━━━━━━━━━━━━━━━━━━━━━━━━━━┳━━━━━━━━━━━━━━━━━━━━━━━━┳━━━━━━━━━━━━━━━┓\n",
       "┃\u001b[1m \u001b[0m\u001b[1mLayer (type)                   \u001b[0m\u001b[1m \u001b[0m┃\u001b[1m \u001b[0m\u001b[1mOutput Shape          \u001b[0m\u001b[1m \u001b[0m┃\u001b[1m \u001b[0m\u001b[1m      Param #\u001b[0m\u001b[1m \u001b[0m┃\n",
       "┡━━━━━━━━━━━━━━━━━━━━━━━━━━━━━━━━━╇━━━━━━━━━━━━━━━━━━━━━━━━╇━━━━━━━━━━━━━━━┩\n",
       "│ input_layer (\u001b[38;5;33mInputLayer\u001b[0m)        │ (\u001b[38;5;45mNone\u001b[0m, \u001b[38;5;34m1\u001b[0m)              │             \u001b[38;5;34m0\u001b[0m │\n",
       "├─────────────────────────────────┼────────────────────────┼───────────────┤\n",
       "│ text_vectorization_1            │ (\u001b[38;5;45mNone\u001b[0m, \u001b[38;5;34m55\u001b[0m)             │             \u001b[38;5;34m0\u001b[0m │\n",
       "│ (\u001b[38;5;33mTextVectorization\u001b[0m)             │                        │               │\n",
       "├─────────────────────────────────┼────────────────────────┼───────────────┤\n",
       "│ embedding_1 (\u001b[38;5;33mEmbedding\u001b[0m)         │ (\u001b[38;5;45mNone\u001b[0m, \u001b[38;5;34m55\u001b[0m, \u001b[38;5;34m128\u001b[0m)        │     \u001b[38;5;34m8,299,648\u001b[0m │\n",
       "├─────────────────────────────────┼────────────────────────┼───────────────┤\n",
       "│ conv1d (\u001b[38;5;33mConv1D\u001b[0m)                 │ (\u001b[38;5;45mNone\u001b[0m, \u001b[38;5;34m55\u001b[0m, \u001b[38;5;34m64\u001b[0m)         │        \u001b[38;5;34m41,024\u001b[0m │\n",
       "├─────────────────────────────────┼────────────────────────┼───────────────┤\n",
       "│ global_average_pooling1d        │ (\u001b[38;5;45mNone\u001b[0m, \u001b[38;5;34m64\u001b[0m)             │             \u001b[38;5;34m0\u001b[0m │\n",
       "│ (\u001b[38;5;33mGlobalAveragePooling1D\u001b[0m)        │                        │               │\n",
       "├─────────────────────────────────┼────────────────────────┼───────────────┤\n",
       "│ dense (\u001b[38;5;33mDense\u001b[0m)                   │ (\u001b[38;5;45mNone\u001b[0m, \u001b[38;5;34m5\u001b[0m)              │           \u001b[38;5;34m325\u001b[0m │\n",
       "└─────────────────────────────────┴────────────────────────┴───────────────┘\n"
      ]
     },
     "metadata": {},
     "output_type": "display_data"
    },
    {
     "data": {
      "text/html": [
       "<pre style=\"white-space:pre;overflow-x:auto;line-height:normal;font-family:Menlo,'DejaVu Sans Mono',consolas,'Courier New',monospace\"><span style=\"font-weight: bold\"> Total params: </span><span style=\"color: #00af00; text-decoration-color: #00af00\">8,340,997</span> (31.82 MB)\n",
       "</pre>\n"
      ],
      "text/plain": [
       "\u001b[1m Total params: \u001b[0m\u001b[38;5;34m8,340,997\u001b[0m (31.82 MB)\n"
      ]
     },
     "metadata": {},
     "output_type": "display_data"
    },
    {
     "data": {
      "text/html": [
       "<pre style=\"white-space:pre;overflow-x:auto;line-height:normal;font-family:Menlo,'DejaVu Sans Mono',consolas,'Courier New',monospace\"><span style=\"font-weight: bold\"> Trainable params: </span><span style=\"color: #00af00; text-decoration-color: #00af00\">8,340,997</span> (31.82 MB)\n",
       "</pre>\n"
      ],
      "text/plain": [
       "\u001b[1m Trainable params: \u001b[0m\u001b[38;5;34m8,340,997\u001b[0m (31.82 MB)\n"
      ]
     },
     "metadata": {},
     "output_type": "display_data"
    },
    {
     "data": {
      "text/html": [
       "<pre style=\"white-space:pre;overflow-x:auto;line-height:normal;font-family:Menlo,'DejaVu Sans Mono',consolas,'Courier New',monospace\"><span style=\"font-weight: bold\"> Non-trainable params: </span><span style=\"color: #00af00; text-decoration-color: #00af00\">0</span> (0.00 B)\n",
       "</pre>\n"
      ],
      "text/plain": [
       "\u001b[1m Non-trainable params: \u001b[0m\u001b[38;5;34m0\u001b[0m (0.00 B)\n"
      ]
     },
     "metadata": {},
     "output_type": "display_data"
    }
   ],
   "source": [
    "model_1.summary()"
   ]
  },
  {
   "cell_type": "code",
   "execution_count": 44,
   "id": "a816a3a0-73d6-45df-baf5-935736d3e8f4",
   "metadata": {},
   "outputs": [
    {
     "name": "stdout",
     "output_type": "stream",
     "text": [
      "Epoch 1/3\n",
      "\u001b[1m562/562\u001b[0m \u001b[32m━━━━━━━━━━━━━━━━━━━━\u001b[0m\u001b[37m\u001b[0m \u001b[1m22s\u001b[0m 37ms/step - accuracy: 0.5224 - loss: 1.1708 - val_accuracy: 0.7384 - val_loss: 0.6902\n",
      "Epoch 2/3\n",
      "\u001b[1m562/562\u001b[0m \u001b[32m━━━━━━━━━━━━━━━━━━━━\u001b[0m\u001b[37m\u001b[0m \u001b[1m21s\u001b[0m 37ms/step - accuracy: 0.7460 - loss: 0.6843 - val_accuracy: 0.7699 - val_loss: 0.6351\n",
      "Epoch 3/3\n",
      "\u001b[1m562/562\u001b[0m \u001b[32m━━━━━━━━━━━━━━━━━━━━\u001b[0m\u001b[37m\u001b[0m \u001b[1m21s\u001b[0m 37ms/step - accuracy: 0.7734 - loss: 0.6191 - val_accuracy: 0.7856 - val_loss: 0.5967\n"
     ]
    }
   ],
   "source": [
    "# Fits model on training data.\n",
    "history_model_1 = model_1.fit(train_dataset, \n",
    "                              steps_per_epoch= int(0.1 * len(train_dataset)),\n",
    "                              epochs = 3, \n",
    "                              validation_data = valid_dataset, \n",
    "                              validation_steps = int(0.1 * len(valid_dataset)))"
   ]
  },
  {
   "cell_type": "code",
   "execution_count": 45,
   "id": "63cffb0a-f582-4fd3-8b98-90c1f5066d00",
   "metadata": {},
   "outputs": [
    {
     "name": "stdout",
     "output_type": "stream",
     "text": [
      "\u001b[1m945/945\u001b[0m \u001b[32m━━━━━━━━━━━━━━━━━━━━\u001b[0m\u001b[37m\u001b[0m \u001b[1m2s\u001b[0m 2ms/step - accuracy: 0.7869 - loss: 0.5932\n"
     ]
    },
    {
     "data": {
      "text/plain": [
       "[0.5944694876670837, 0.787534773349762]"
      ]
     },
     "execution_count": 45,
     "metadata": {},
     "output_type": "execute_result"
    }
   ],
   "source": [
    "# Evaluates on whole validation dataset.\n",
    "model_1.evaluate(valid_dataset)"
   ]
  },
  {
   "cell_type": "code",
   "execution_count": 46,
   "id": "035e492d-8fa5-40f3-8cd3-c13ba47eccfc",
   "metadata": {},
   "outputs": [
    {
     "name": "stdout",
     "output_type": "stream",
     "text": [
      "\u001b[1m945/945\u001b[0m \u001b[32m━━━━━━━━━━━━━━━━━━━━\u001b[0m\u001b[37m\u001b[0m \u001b[1m2s\u001b[0m 2ms/step\n"
     ]
    },
    {
     "data": {
      "text/plain": [
       "(array([[4.7499126e-01, 1.4720753e-01, 7.6392740e-02, 2.7580699e-01,\n",
       "         2.5601473e-02],\n",
       "        [4.0903386e-01, 3.3415800e-01, 1.1288385e-02, 2.3416816e-01,\n",
       "         1.1351572e-02],\n",
       "        [1.4589012e-01, 7.9259537e-03, 2.2073926e-03, 8.4394318e-01,\n",
       "         3.3357232e-05],\n",
       "        ...,\n",
       "        [1.0408394e-05, 7.3351688e-04, 6.7836244e-04, 5.7935194e-06,\n",
       "         9.9857187e-01],\n",
       "        [4.6393391e-02, 4.5053673e-01, 8.5427165e-02, 4.6632368e-02,\n",
       "         3.7101030e-01],\n",
       "        [1.6089329e-01, 7.0552844e-01, 5.8616918e-02, 3.8660374e-02,\n",
       "         3.6300980e-02]], dtype=float32),\n",
       " (30212, 5))"
      ]
     },
     "execution_count": 46,
     "metadata": {},
     "output_type": "execute_result"
    }
   ],
   "source": [
    "# Makes prediction using model_1 (the outputs are tensors of propabilities, the highest prob of tensor represents the output category model predicted as correct for sentence)\n",
    "model_1_pred_probs = model_1.predict(valid_dataset)\n",
    "model_1_pred_probs, model_1_pred_probs.shape"
   ]
  },
  {
   "cell_type": "code",
   "execution_count": 47,
   "id": "ef98b281-a685-43fa-8ad3-89cfa645ebf7",
   "metadata": {},
   "outputs": [
    {
     "data": {
      "text/plain": [
       "<tf.Tensor: shape=(30212,), dtype=int64, numpy=array([0, 0, 3, ..., 4, 1, 1], dtype=int64)>"
      ]
     },
     "execution_count": 47,
     "metadata": {},
     "output_type": "execute_result"
    }
   ],
   "source": [
    "# Converting predictions' propabilietes to classes.\n",
    "model_1_preds = tf.argmax(model_1_pred_probs, axis = 1)\n",
    "model_1_preds"
   ]
  },
  {
   "cell_type": "code",
   "execution_count": 48,
   "id": "c3edb3cd-9ae9-43ee-87aa-a60b67ea7dce",
   "metadata": {},
   "outputs": [
    {
     "data": {
      "text/plain": [
       "{'accuracy': 78.75347544022243,\n",
       " 'precision': 0.7839516080001568,\n",
       " 'recall': 0.7875347544022243,\n",
       " 'f1': 0.7851509111723519}"
      ]
     },
     "execution_count": 48,
     "metadata": {},
     "output_type": "execute_result"
    }
   ],
   "source": [
    "# Calculating model_1 results.\n",
    "model_1_results = hf.calculate_results(y_true = val_labels_encoded,\n",
    "                                       y_pred = model_1_preds)\n",
    "model_1_results"
   ]
  },
  {
   "cell_type": "code",
   "execution_count": 49,
   "id": "859fd3cf-e1e6-4a82-9d78-480dba6e4f64",
   "metadata": {},
   "outputs": [
    {
     "name": "stdout",
     "output_type": "stream",
     "text": [
      "The \"accuracy\" of new model '78.75', is BETTER than baseline's '72.18' => 6.57.\n",
      "\n",
      "The \"precision\" of new model '0.78', is BETTER than baseline's '0.72' => 0.07.\n",
      "\n",
      "The \"recall\" of new model '0.79', is BETTER than baseline's '0.72' => 0.07.\n",
      "\n",
      "The \"f1\" of new model '0.79', is BETTER than baseline's '0.70' => 0.09.\n",
      "\n"
     ]
    }
   ],
   "source": [
    "# Compares the baseline model against to model_1.\n",
    "hf.compare_baseline_to_new_model_results(baseline_results, model_1_results)"
   ]
  },
  {
   "cell_type": "markdown",
   "id": "01cef812-587b-48a4-b185-6d7f776f4f44",
   "metadata": {},
   "source": [
    "### Model 2: Feature extraction with pretrained token embeddings"
   ]
  },
  {
   "cell_type": "code",
   "execution_count": 50,
   "id": "87b2e747-438b-4671-b3c6-75bb791e07ca",
   "metadata": {
    "scrolled": true
   },
   "outputs": [
    {
     "name": "stdout",
     "output_type": "stream",
     "text": [
      "WARNING:tensorflow:From C:\\Users\\skyli\\anaconda3\\Lib\\site-packages\\tensorflow_hub\\resolver.py:120: The name tf.gfile.MakeDirs is deprecated. Please use tf.io.gfile.makedirs instead.\n",
      "\n"
     ]
    },
    {
     "name": "stderr",
     "output_type": "stream",
     "text": [
      "WARNING:tensorflow:From C:\\Users\\skyli\\anaconda3\\Lib\\site-packages\\tensorflow_hub\\resolver.py:120: The name tf.gfile.MakeDirs is deprecated. Please use tf.io.gfile.makedirs instead.\n",
      "\n"
     ]
    },
    {
     "name": "stdout",
     "output_type": "stream",
     "text": [
      "WARNING:tensorflow:From C:\\Users\\skyli\\anaconda3\\Lib\\site-packages\\tensorflow_hub\\module_v2.py:126: The name tf.saved_model.load_v2 is deprecated. Please use tf.compat.v2.saved_model.load instead.\n",
      "\n"
     ]
    },
    {
     "name": "stderr",
     "output_type": "stream",
     "text": [
      "WARNING:tensorflow:From C:\\Users\\skyli\\anaconda3\\Lib\\site-packages\\tensorflow_hub\\module_v2.py:126: The name tf.saved_model.load_v2 is deprecated. Please use tf.compat.v2.saved_model.load instead.\n",
      "\n"
     ]
    }
   ],
   "source": [
    "# Download pretrained TensorFlow Hub USE.\n",
    "tf_hub_embedding_layer = hub.KerasLayer(\"https://tfhub.dev/google/universal-sentence-encoder/4\",\n",
    "                                        trainable = False, # all layers from pretrained model are not trainable. \n",
    "                                        name = \"universal_sentence_encoder\");"
   ]
  },
  {
   "cell_type": "code",
   "execution_count": 51,
   "id": "0439a117-6689-4006-9a81-c3f547622703",
   "metadata": {},
   "outputs": [
    {
     "name": "stdout",
     "output_type": "stream",
     "text": [
      "Random sentence:\n",
      " future investigations will be needed to determine the full effects of the imagine health intervention on insulin resistance , stress , and stress biomarkers .\n",
      "WARNING:tensorflow:From C:\\Users\\skyli\\anaconda3\\Lib\\site-packages\\tf_keras\\src\\utils\\tf_utils.py:229: The name tf.Dimension is deprecated. Please use tf.compat.v1.Dimension instead.\n",
      "\n"
     ]
    },
    {
     "name": "stderr",
     "output_type": "stream",
     "text": [
      "WARNING:tensorflow:From C:\\Users\\skyli\\anaconda3\\Lib\\site-packages\\tf_keras\\src\\utils\\tf_utils.py:229: The name tf.Dimension is deprecated. Please use tf.compat.v1.Dimension instead.\n",
      "\n"
     ]
    },
    {
     "name": "stdout",
     "output_type": "stream",
     "text": [
      "Sentence after embedding:\n",
      "[ 0.0150422  -0.00378146 -0.02286663  0.05801295 -0.02211573 -0.06511374\n",
      "  0.05790316  0.03724584  0.03986306  0.01013728  0.08870746  0.00226341\n",
      "  0.0526503  -0.00449469  0.00757888 -0.0521353  -0.09305993  0.0497514\n",
      " -0.05966    -0.03693961  0.03445817  0.0272451   0.03331577 -0.04079922\n",
      "  0.01705352  0.01628705  0.02492375  0.03627333  0.01535322 -0.00400048] (truncated output)...\n",
      "\n",
      "Length of sentence embedding: 512\n"
     ]
    }
   ],
   "source": [
    "# Test out the pretrained embedding on a random sentence.\n",
    "random_train_sentence = random.choice(train_sentences)\n",
    "print(f\"Random sentence:\\n {random_train_sentence}\")\n",
    "use_embedded_sentence = tf_hub_embedding_layer([random_train_sentence])\n",
    "print(f\"Sentence after embedding:\\n{use_embedded_sentence[0][:30]} (truncated output)...\\n\")\n",
    "print(f\"Length of sentence embedding: {len(use_embedded_sentence[0])}\")"
   ]
  },
  {
   "cell_type": "code",
   "execution_count": 52,
   "id": "9242aacf-ac8e-419c-ae23-260b2faa40a9",
   "metadata": {},
   "outputs": [],
   "source": [
    "# Building feature extraction model\n",
    "inputs = tf_keras.layers.Input(shape = [], dtype = tf.string) # shape needs to be \"list\", so we use empty [] as shape\n",
    "pretrained_embedding = tf_hub_embedding_layer(inputs)\n",
    "x = tf_keras.layers.Dense(128, activation = \"relu\")(pretrained_embedding)\n",
    "outputs = tf_keras.layers.Dense(num_classes, activation = \"softmax\")(x)\n",
    "model_2 = tf_keras.Model(inputs = inputs, outputs = outputs, name = \"model_2_USE_feature_extraction\")"
   ]
  },
  {
   "cell_type": "code",
   "execution_count": 53,
   "id": "22419cab-c714-49ed-94b0-a0e7b5e8c05e",
   "metadata": {},
   "outputs": [],
   "source": [
    "# Compiles model.\n",
    "model_2.compile(loss = \"categorical_crossentropy\", \n",
    "                optimizer = tf_keras.optimizers.Adam(), \n",
    "                metrics = [\"accuracy\"])"
   ]
  },
  {
   "cell_type": "code",
   "execution_count": 54,
   "id": "ee5f746a-f866-416d-abb9-a6783d8e3903",
   "metadata": {},
   "outputs": [
    {
     "name": "stdout",
     "output_type": "stream",
     "text": [
      "Model: \"model_2_USE_feature_extraction\"\n",
      "_________________________________________________________________\n",
      " Layer (type)                Output Shape              Param #   \n",
      "=================================================================\n",
      " input_1 (InputLayer)        [(None,)]                 0         \n",
      "                                                                 \n",
      " universal_sentence_encoder  (None, 512)               256797824 \n",
      "  (KerasLayer)                                                   \n",
      "                                                                 \n",
      " dense (Dense)               (None, 128)               65664     \n",
      "                                                                 \n",
      " dense_1 (Dense)             (None, 5)                 645       \n",
      "                                                                 \n",
      "=================================================================\n",
      "Total params: 256864133 (979.86 MB)\n",
      "Trainable params: 66309 (259.02 KB)\n",
      "Non-trainable params: 256797824 (979.61 MB)\n",
      "_________________________________________________________________\n"
     ]
    }
   ],
   "source": [
    "model_2.summary()"
   ]
  },
  {
   "cell_type": "code",
   "execution_count": 55,
   "id": "d6c75f80-0e64-4325-8969-43a30d545b1b",
   "metadata": {},
   "outputs": [
    {
     "name": "stdout",
     "output_type": "stream",
     "text": [
      "Epoch 1/3\n",
      "WARNING:tensorflow:From C:\\Users\\skyli\\anaconda3\\Lib\\site-packages\\tf_keras\\src\\utils\\tf_utils.py:492: The name tf.ragged.RaggedTensorValue is deprecated. Please use tf.compat.v1.ragged.RaggedTensorValue instead.\n",
      "\n"
     ]
    },
    {
     "name": "stderr",
     "output_type": "stream",
     "text": [
      "WARNING:tensorflow:From C:\\Users\\skyli\\anaconda3\\Lib\\site-packages\\tf_keras\\src\\utils\\tf_utils.py:492: The name tf.ragged.RaggedTensorValue is deprecated. Please use tf.compat.v1.ragged.RaggedTensorValue instead.\n",
      "\n"
     ]
    },
    {
     "name": "stdout",
     "output_type": "stream",
     "text": [
      "WARNING:tensorflow:From C:\\Users\\skyli\\anaconda3\\Lib\\site-packages\\tf_keras\\src\\engine\\base_layer_utils.py:384: The name tf.executing_eagerly_outside_functions is deprecated. Please use tf.compat.v1.executing_eagerly_outside_functions instead.\n",
      "\n"
     ]
    },
    {
     "name": "stderr",
     "output_type": "stream",
     "text": [
      "WARNING:tensorflow:From C:\\Users\\skyli\\anaconda3\\Lib\\site-packages\\tf_keras\\src\\engine\\base_layer_utils.py:384: The name tf.executing_eagerly_outside_functions is deprecated. Please use tf.compat.v1.executing_eagerly_outside_functions instead.\n",
      "\n"
     ]
    },
    {
     "name": "stdout",
     "output_type": "stream",
     "text": [
      "562/562 [==============================] - 5s 6ms/step - loss: 0.9143 - accuracy: 0.6534 - val_loss: 0.7956 - val_accuracy: 0.6922\n",
      "Epoch 2/3\n",
      "562/562 [==============================] - 3s 6ms/step - loss: 0.7678 - accuracy: 0.7038 - val_loss: 0.7538 - val_accuracy: 0.7071\n",
      "Epoch 3/3\n",
      "562/562 [==============================] - 3s 6ms/step - loss: 0.7531 - accuracy: 0.7110 - val_loss: 0.7410 - val_accuracy: 0.7128\n"
     ]
    }
   ],
   "source": [
    "# Fits model.\n",
    "history_model_2 = model_2.fit(train_dataset, \n",
    "                              steps_per_epoch= int(0.1 * len(train_dataset)),\n",
    "                              epochs = 3, \n",
    "                              validation_data = valid_dataset, \n",
    "                              validation_steps = int(0.1 * len(valid_dataset)))"
   ]
  },
  {
   "cell_type": "code",
   "execution_count": 56,
   "id": "ea53325d-663b-4510-b162-54a25c3519c8",
   "metadata": {},
   "outputs": [
    {
     "name": "stdout",
     "output_type": "stream",
     "text": [
      "945/945 [==============================] - 4s 4ms/step - loss: 0.7431 - accuracy: 0.7131\n"
     ]
    },
    {
     "data": {
      "text/plain": [
       "[0.7430889010429382, 0.7130610346794128]"
      ]
     },
     "execution_count": 56,
     "metadata": {},
     "output_type": "execute_result"
    }
   ],
   "source": [
    "# Evaluates on whole validation dataset.\n",
    "model_2.evaluate(valid_dataset)"
   ]
  },
  {
   "cell_type": "code",
   "execution_count": 57,
   "id": "5fb55812-199a-4e62-9edd-18ddc505dde6",
   "metadata": {},
   "outputs": [
    {
     "name": "stdout",
     "output_type": "stream",
     "text": [
      "945/945 [==============================] - 5s 5ms/step\n"
     ]
    },
    {
     "data": {
      "text/plain": [
       "(array([[4.3194956e-01, 3.6423898e-01, 2.1388459e-03, 1.9495788e-01,\n",
       "         6.7147873e-03],\n",
       "        [3.3777741e-01, 4.9716905e-01, 3.7470853e-03, 1.5843405e-01,\n",
       "         2.8724587e-03],\n",
       "        [2.2997291e-01, 1.3279866e-01, 1.9255748e-02, 5.7908714e-01,\n",
       "         3.8885556e-02],\n",
       "        ...,\n",
       "        [1.8327523e-03, 6.9361841e-03, 5.1594201e-02, 8.5863366e-04,\n",
       "         9.3877816e-01],\n",
       "        [3.9717639e-03, 4.8536345e-02, 1.9346155e-01, 1.4467982e-03,\n",
       "         7.5258350e-01],\n",
       "        [1.6870518e-01, 2.3045452e-01, 5.2717823e-01, 9.0480475e-03,\n",
       "         6.4614050e-02]], dtype=float32),\n",
       " (30212, 5))"
      ]
     },
     "execution_count": 57,
     "metadata": {},
     "output_type": "execute_result"
    }
   ],
   "source": [
    "model_2_pred_probs = model_2.predict(valid_dataset)\n",
    "model_2_pred_probs, model_2_pred_probs.shape"
   ]
  },
  {
   "cell_type": "code",
   "execution_count": 58,
   "id": "39cc9c6f-d7f7-4dba-883f-6eacf4b99305",
   "metadata": {},
   "outputs": [
    {
     "data": {
      "text/plain": [
       "<tf.Tensor: shape=(30212,), dtype=int64, numpy=array([0, 1, 3, ..., 4, 4, 2], dtype=int64)>"
      ]
     },
     "execution_count": 58,
     "metadata": {},
     "output_type": "execute_result"
    }
   ],
   "source": [
    "# Converting predictions' propabilietes to classes.\n",
    "model_2_preds = tf.argmax(model_2_pred_probs, axis = 1)\n",
    "model_2_preds"
   ]
  },
  {
   "cell_type": "code",
   "execution_count": 59,
   "id": "ae36500e-f021-43ec-a76d-4007da793a7f",
   "metadata": {},
   "outputs": [
    {
     "data": {
      "text/plain": [
       "{'accuracy': 78.75347544022243,\n",
       " 'precision': 0.7839516080001568,\n",
       " 'recall': 0.7875347544022243,\n",
       " 'f1': 0.7851509111723519}"
      ]
     },
     "execution_count": 59,
     "metadata": {},
     "output_type": "execute_result"
    }
   ],
   "source": [
    "# Calculating model_2 results.\n",
    "model_2_results = hf.calculate_results(y_true = val_labels_encoded,\n",
    "                                       y_pred = model_1_preds)\n",
    "model_2_results"
   ]
  },
  {
   "cell_type": "code",
   "execution_count": 60,
   "id": "d6f09a84-f4a8-45f1-a7c2-7b88d5e919a2",
   "metadata": {},
   "outputs": [
    {
     "name": "stdout",
     "output_type": "stream",
     "text": [
      "The \"accuracy\" of new model '78.75', is BETTER than baseline's '72.18' => 6.57.\n",
      "\n",
      "The \"precision\" of new model '0.78', is BETTER than baseline's '0.72' => 0.07.\n",
      "\n",
      "The \"recall\" of new model '0.79', is BETTER than baseline's '0.72' => 0.07.\n",
      "\n",
      "The \"f1\" of new model '0.79', is BETTER than baseline's '0.70' => 0.09.\n",
      "\n"
     ]
    }
   ],
   "source": [
    "# Compares the baseline model against to model_2.\n",
    "hf.compare_baseline_to_new_model_results(baseline_results, model_2_results)"
   ]
  },
  {
   "cell_type": "markdown",
   "id": "777a338c-0144-4d10-b818-4161e771fd09",
   "metadata": {},
   "source": [
    "### Model 3: Conv1D with characters embeddings"
   ]
  },
  {
   "cell_type": "markdown",
   "id": "66496415-cab9-4892-ac74-da9dde7a8fe2",
   "metadata": {},
   "source": [
    "#### Creating Character-Level tokenizer"
   ]
  },
  {
   "cell_type": "code",
   "execution_count": 61,
   "id": "86053b04-a46e-4c03-8a31-22a4c339a800",
   "metadata": {},
   "outputs": [],
   "source": [
    "# Making function to split sentences into characters.\n",
    "def split_chars(text):\n",
    "    return \" \".join(list(text))"
   ]
  },
  {
   "cell_type": "code",
   "execution_count": 62,
   "id": "9ad05c7d-adf0-499c-b2de-eb421a536aea",
   "metadata": {},
   "outputs": [
    {
     "data": {
      "text/plain": [
       "'f u t u r e   i n v e s t i g a t i o n s   w i l l   b e   n e e d e d   t o   d e t e r m i n e   t h e   f u l l   e f f e c t s   o f   t h e   i m a g i n e   h e a l t h   i n t e r v e n t i o n   o n   i n s u l i n   r e s i s t a n c e   ,   s t r e s s   ,   a n d   s t r e s s   b i o m a r k e r s   .'"
      ]
     },
     "execution_count": 62,
     "metadata": {},
     "output_type": "execute_result"
    }
   ],
   "source": [
    "# Text splitting non-character-level sequence into characters.\n",
    "split_chars(random_train_sentence)"
   ]
  },
  {
   "cell_type": "code",
   "execution_count": 63,
   "id": "9e39d933-7216-43be-b1ed-5ad8aa346604",
   "metadata": {},
   "outputs": [
    {
     "data": {
      "text/plain": [
       "['t o   i n v e s t i g a t e   t h e   e f f i c a c y   o f   @   w e e k s   o f   d a i l y   l o w - d o s e   o r a l   p r e d n i s o l o n e   i n   i m p r o v i n g   p a i n   ,   m o b i l i t y   ,   a n d   s y s t e m i c   l o w - g r a d e   i n f l a m m a t i o n   i n   t h e   s h o r t   t e r m   a n d   w h e t h e r   t h e   e f f e c t   w o u l d   b e   s u s t a i n e d   a t   @   w e e k s   i n   o l d e r   a d u l t s   w i t h   m o d e r a t e   t o   s e v e r e   k n e e   o s t e o a r t h r i t i s   (   o a   )   .',\n",
       " 'a   t o t a l   o f   @   p a t i e n t s   w i t h   p r i m a r y   k n e e   o a   w e r e   r a n d o m i z e d   @ : @   ;   @   r e c e i v e d   @   m g / d a y   o f   p r e d n i s o l o n e   a n d   @   r e c e i v e d   p l a c e b o   f o r   @   w e e k s   .',\n",
       " 'o u t c o m e   m e a s u r e s   i n c l u d e d   p a i n   r e d u c t i o n   a n d   i m p r o v e m e n t   i n   f u n c t i o n   s c o r e s   a n d   s y s t e m i c   i n f l a m m a t i o n   m a r k e r s   .',\n",
       " 'p a i n   w a s   a s s e s s e d   u s i n g   t h e   v i s u a l   a n a l o g   p a i n   s c a l e   (   @ - @   m m   )   .',\n",
       " 's e c o n d a r y   o u t c o m e   m e a s u r e s   i n c l u d e d   t h e   w e s t e r n   o n t a r i o   a n d   m c m a s t e r   u n i v e r s i t i e s   o s t e o a r t h r i t i s   i n d e x   s c o r e s   ,   p a t i e n t   g l o b a l   a s s e s s m e n t   (   p g a   )   o f   t h e   s e v e r i t y   o f   k n e e   o a   ,   a n d   @ - m i n   w a l k   d i s t a n c e   (   @ m w d   )   .']"
      ]
     },
     "execution_count": 63,
     "metadata": {},
     "output_type": "execute_result"
    }
   ],
   "source": [
    "# Split sequence-level data splits into charaters-level data splits.\n",
    "train_chars = [split_chars(sentence) for sentence in train_sentences]\n",
    "val_chars = [split_chars(sentence) for sentence in val_sentences]\n",
    "test_chars = [split_chars(sentence) for sentence in test_sentences]\n",
    "\n",
    "train_chars[:5]"
   ]
  },
  {
   "cell_type": "code",
   "execution_count": 64,
   "id": "f7c3e3aa-a4ba-4317-8d4d-da416948bde8",
   "metadata": {},
   "outputs": [
    {
     "data": {
      "text/plain": [
       "149"
      ]
     },
     "execution_count": 64,
     "metadata": {},
     "output_type": "execute_result"
    }
   ],
   "source": [
    "# Getting the average character length, such as before with words per sentence.\n",
    "char_lens = [len(sentense) for sentense in train_sentences]\n",
    "mean_char_len_per_sentence = round(np.mean(char_lens))\n",
    "mean_char_len_per_sentence"
   ]
  },
  {
   "cell_type": "code",
   "execution_count": 65,
   "id": "1a6232ca-8b20-4a2b-b41f-d9abb6a1a53e",
   "metadata": {},
   "outputs": [
    {
     "data": {
      "image/png": "[encoded data removed]",
      "text/plain": [
       "<Figure size 640x480 with 1 Axes>"
      ]
     },
     "metadata": {},
     "output_type": "display_data"
    }
   ],
   "source": [
    "# Checking the distribution of sentences at a character-level.\n",
    "plt.hist(char_lens, bins = 10);"
   ]
  },
  {
   "cell_type": "code",
   "execution_count": 66,
   "id": "87beea56-01a3-4135-bd6e-86ccd5e0260d",
   "metadata": {},
   "outputs": [
    {
     "data": {
      "text/plain": [
       "290"
      ]
     },
     "execution_count": 66,
     "metadata": {},
     "output_type": "execute_result"
    }
   ],
   "source": [
    "# Looking for the best number of characters, covering the most amount of sentences, particularly for the 95% of all sentences.\n",
    "best_num_of_chars_per_sentence = int(np.percentile(char_lens, 95))\n",
    "best_num_of_chars_per_sentence"
   ]
  },
  {
   "cell_type": "code",
   "execution_count": 67,
   "id": "4b769c02-d52b-4b90-b4f8-75c08ce3db2b",
   "metadata": {},
   "outputs": [
    {
     "data": {
      "text/plain": [
       "'abcdefghijklmnopqrstuvwxyz0123456789!\"#$%&\\'()*+,-./:;<=>?@[\\\\]^_`{|}~'"
      ]
     },
     "execution_count": 67,
     "metadata": {},
     "output_type": "execute_result"
    }
   ],
   "source": [
    "# Get all keyboard charactes.\n",
    "alphabet = string.ascii_lowercase + string.digits + string.punctuation\n",
    "alphabet"
   ]
  },
  {
   "cell_type": "code",
   "execution_count": 68,
   "id": "dd4a1003-bede-4d41-b9d6-7ff8b3f295db",
   "metadata": {},
   "outputs": [],
   "source": [
    "# Creating char-level token vectorizer instance\n",
    "NUM_CHAR_TOKENS = len(alphabet) + 2 # adding 2 for 'space' and 'OOV' token (OVV = Out Of Vocabulary)\n",
    "char_vectorizer = tf.keras.layers.TextVectorization(max_tokens = NUM_CHAR_TOKENS, \n",
    "                                                    output_sequence_length = best_num_of_chars_per_sentence,\n",
    "                                                    # standardize = None, # If line is enabled, then punctuation symbols will be included\n",
    "                                                    name = \"char_vectorizer\")"
   ]
  },
  {
   "cell_type": "code",
   "execution_count": 69,
   "id": "7cc638c4-f725-4683-8a7b-c050e605be7b",
   "metadata": {},
   "outputs": [],
   "source": [
    "# Adapting character vectorizer to training character.\n",
    "char_vectorizer.adapt(train_chars)"
   ]
  },
  {
   "cell_type": "code",
   "execution_count": 70,
   "id": "fc76b269-7255-42c6-809d-c3af5cb066de",
   "metadata": {},
   "outputs": [
    {
     "name": "stdout",
     "output_type": "stream",
     "text": [
      "Number of different characters in character vocal: 28\n",
      "5 most common characters: ['', '[UNK]', 'e', 't', 'i']\n",
      "5 least common characters: ['k', 'x', 'z', 'q', 'j']\n"
     ]
    }
   ],
   "source": [
    "# Checking vocab stats.\n",
    "char_vocab = char_vectorizer.get_vocabulary()\n",
    "print(f\"Number of different characters in character vocal: {len(char_vocab)}\")\n",
    "print(f\"5 most common characters: {char_vocab[:5]}\")\n",
    "print(f\"5 least common characters: {char_vocab[-5:]}\")"
   ]
  },
  {
   "cell_type": "code",
   "execution_count": 71,
   "id": "e36da840-f2f1-4666-9e3f-88acd00f8d30",
   "metadata": {},
   "outputs": [
    {
     "name": "stdout",
     "output_type": "stream",
     "text": [
      "Charified text:\n",
      "p a r t i c i p a n t s   w e r e   @   c h i l d r e n   w i t h   a   h i s t o r y   o f   i n s t i t u t i o n a l   c a r e   a n d   @   n e v e r - i n s t i t u t i o n a l i z e d   c o n t r o l   (   n i g   )   s u b j e c t s   e n r o l l e d   i n   a   r a n d o m i z e d   c o n t r o l l e d   t r i a l   o f   f o s t e r   c a r e   f o r   i n s t i t u t i o n a l   c a r e   ,   a s s e s s e d   f r o m   t o d d l e r h o o d   t o   @   m o n t h s   .\n",
      "\n",
      "\n",
      "Length of random_train_sentence: 205\n",
      "\n",
      "\n",
      "Vectorized chars:\n",
      "[[14  5  8  3  4 11  4 14  5  6  3  9 20  2  8  2 11 13  4 12 10  8  2  6\n",
      "  20  4  3 13  5 13  4  9  3  7  8 19  7 17  4  6  9  3  4  3 16  3  4  7\n",
      "   6  5 12 11  5  8  2  5  6 10  6  2 21  2  8  4  6  9  3  4  3 16  3  4\n",
      "   7  6  5 12  4 25  2 10 11  7  6  3  8  7 12  6  4 18  9 16 22 27  2 11\n",
      "   3  9  2  6  8  7 12 12  2 10  4  6  5  8  5  6 10  7 15  4 25  2 10 11\n",
      "   7  6  3  8  7 12 12  2 10  3  8  4  5 12  7 17 17  7  9  3  2  8 11  5\n",
      "   8  2 17  7  8  4  6  9  3  4  3 16  3  4  7  6  5 12 11  5  8  2  5  9\n",
      "   9  2  9  9  2 10 17  8  7 15  3  7 10 10 12  2  8 13  7  7 10  3  7 15\n",
      "   7  6  3 13  9  0  0  0  0  0  0  0  0  0  0  0  0  0  0  0  0  0  0  0\n",
      "   0  0  0  0  0  0  0  0  0  0  0  0  0  0  0  0  0  0  0  0  0  0  0  0\n",
      "   0  0  0  0  0  0  0  0  0  0  0  0  0  0  0  0  0  0  0  0  0  0  0  0\n",
      "   0  0  0  0  0  0  0  0  0  0  0  0  0  0  0  0  0  0  0  0  0  0  0  0\n",
      "   0  0]]\n",
      "\n",
      "\n",
      "Length of vectorized_chars: 290\n",
      "\n",
      "\n"
     ]
    }
   ],
   "source": [
    "# Testing out character vectorizer.\n",
    "random_train_chars = random.choice(train_chars)\n",
    "print(f\"Charified text:\\n{random_train_chars}{2*'\\n'}\")\n",
    "print(f\"Length of random_train_sentence: {len(random_train_chars.split())}{2*'\\n'}\")\n",
    "vectorized_chars = char_vectorizer([random_train_chars])\n",
    "print(f\"Vectorized chars:\\n{vectorized_chars}{2*'\\n'}\")\n",
    "print(f\"Length of vectorized_chars: {len(vectorized_chars[0])}{2*'\\n'}\")"
   ]
  },
  {
   "cell_type": "markdown",
   "id": "fde5a103-ea71-4d13-b761-4c4b80c37e9d",
   "metadata": {},
   "source": [
    "#### Creating a character-level embedding"
   ]
  },
  {
   "cell_type": "code",
   "execution_count": 72,
   "id": "6dcc75b8-a613-4cbd-b0cb-5e939fb6cac5",
   "metadata": {},
   "outputs": [],
   "source": [
    "# Creates char embedding layer.\n",
    "char_embed = tf.keras.layers.Embedding(input_dim = len(char_vocab),\n",
    "                                       output_dim = 25,\n",
    "                                       mask_zero = True,\n",
    "                                       name = \"char_embed\")"
   ]
  },
  {
   "cell_type": "code",
   "execution_count": 73,
   "id": "a9c02d41-8b97-4e8e-a6e0-4b251dc80afa",
   "metadata": {},
   "outputs": [
    {
     "name": "stdout",
     "output_type": "stream",
     "text": [
      "Charified text:\n",
      " p a r t i c i p a n t s   w e r e   @   c h i l d r e n   w i t h   a   h i s t o r y   o f   i n s t i t u t i o n a l   c a r e   a n d   @   n e v e r - i n s t i t u t i o n a l i z e d   c o n t r o l   (   n i g   )   s u b j e c t s   e n r o l l e d   i n   a   r a n d o m i z e d   c o n t r o l l e d   t r i a l   o f   f o s t e r   c a r e   f o r   i n s t i t u t i o n a l   c a r e   ,   a s s e s s e d   f r o m   t o d d l e r h o o d   t o   @   m o n t h s   .\n",
      "\n",
      "Embedded chars. (after vectorization and embedding):\n",
      " [[[-0.01199689  0.04127277  0.02966363 ...  0.04383874  0.02410899\n",
      "    0.03254404]\n",
      "  [ 0.02299479  0.04426409 -0.01949729 ... -0.00995899  0.00319308\n",
      "    0.04074471]\n",
      "  [-0.02903069  0.0310604   0.0382886  ...  0.04298231  0.04105951\n",
      "    0.04591239]\n",
      "  ...\n",
      "  [ 0.00616181  0.01627037  0.0265903  ... -0.04725432  0.03643944\n",
      "   -0.04915544]\n",
      "  [ 0.00616181  0.01627037  0.0265903  ... -0.04725432  0.03643944\n",
      "   -0.04915544]\n",
      "  [ 0.00616181  0.01627037  0.0265903  ... -0.04725432  0.03643944\n",
      "   -0.04915544]]]\n",
      "\n",
      "Character embedding shape: (1, 290, 25)\n",
      "\n"
     ]
    }
   ],
   "source": [
    "# Testing out character embedding layer.\n",
    "print(f\"Charified text:\\n {random_train_chars}\\n\")\n",
    "char_embed_example = char_embed(char_vectorizer([random_train_chars]))\n",
    "print(f\"Embedded chars. (after vectorization and embedding):\\n {char_embed_example}\\n\")\n",
    "print(f\"Character embedding shape: {char_embed_example.shape}\\n\")"
   ]
  },
  {
   "cell_type": "markdown",
   "id": "3f65034b-1326-441a-8d30-ed08640f9819",
   "metadata": {},
   "source": [
    "#### Building character-level embedding model"
   ]
  },
  {
   "cell_type": "code",
   "execution_count": 74,
   "id": "8a5edd9b-81a7-4907-8857-f2fd4512c9db",
   "metadata": {},
   "outputs": [],
   "source": [
    "# Making Conv1D on chars only.\n",
    "inputs = tf.keras.layers.Input(shape = (1, ), dtype = tf.string)\n",
    "char_vectors = char_vectorizer(inputs)\n",
    "char_embeddings = char_embed(char_vectors)\n",
    "x = tf.keras.layers.Conv1D(64, kernel_size = 5, padding = \"same\", activation = \"relu\")(char_embeddings)\n",
    "# In case \"GlobalAveragePooling\" does not give good results, try to change to \"GlobalMaxPooling\"\n",
    "x = tf.keras.layers.GlobalMaxPooling1D()(x)\n",
    "outputs = tf.keras.layers.Dense(num_classes, activation = \"softmax\")(x)\n",
    "model_3 = tf.keras.Model(inputs = inputs, outputs = outputs, name = \"model_3_conv1d_char_embeddings\")"
   ]
  },
  {
   "cell_type": "code",
   "execution_count": 75,
   "id": "78138da5-8ec2-42cb-8449-3730718be92e",
   "metadata": {},
   "outputs": [],
   "source": [
    "# Compiles model.\n",
    "model_3.compile(loss = \"categorical_crossentropy\", \n",
    "                optimizer = tf.keras.optimizers.Adam(), \n",
    "                metrics = [\"accuracy\"])"
   ]
  },
  {
   "cell_type": "code",
   "execution_count": 76,
   "id": "db7352e9-99e8-4d0e-99a6-6df8edf0a84c",
   "metadata": {},
   "outputs": [
    {
     "data": {
      "text/html": [
       "<pre style=\"white-space:pre;overflow-x:auto;line-height:normal;font-family:Menlo,'DejaVu Sans Mono',consolas,'Courier New',monospace\"><span style=\"font-weight: bold\">Model: \"model_3_conv1d_char_embeddings\"</span>\n",
       "</pre>\n"
      ],
      "text/plain": [
       "\u001b[1mModel: \"model_3_conv1d_char_embeddings\"\u001b[0m\n"
      ]
     },
     "metadata": {},
     "output_type": "display_data"
    },
    {
     "data": {
      "text/html": [
       "<pre style=\"white-space:pre;overflow-x:auto;line-height:normal;font-family:Menlo,'DejaVu Sans Mono',consolas,'Courier New',monospace\">┏━━━━━━━━━━━━━━━━━━━━━━━━━━━━━━━━━┳━━━━━━━━━━━━━━━━━━━━━━━━┳━━━━━━━━━━━━━━━┓\n",
       "┃<span style=\"font-weight: bold\"> Layer (type)                    </span>┃<span style=\"font-weight: bold\"> Output Shape           </span>┃<span style=\"font-weight: bold\">       Param # </span>┃\n",
       "┡━━━━━━━━━━━━━━━━━━━━━━━━━━━━━━━━━╇━━━━━━━━━━━━━━━━━━━━━━━━╇━━━━━━━━━━━━━━━┩\n",
       "│ input_layer_1 (<span style=\"color: #0087ff; text-decoration-color: #0087ff\">InputLayer</span>)      │ (<span style=\"color: #00d7ff; text-decoration-color: #00d7ff\">None</span>, <span style=\"color: #00af00; text-decoration-color: #00af00\">1</span>)              │             <span style=\"color: #00af00; text-decoration-color: #00af00\">0</span> │\n",
       "├─────────────────────────────────┼────────────────────────┼───────────────┤\n",
       "│ char_vectorizer                 │ (<span style=\"color: #00d7ff; text-decoration-color: #00d7ff\">None</span>, <span style=\"color: #00af00; text-decoration-color: #00af00\">290</span>)            │             <span style=\"color: #00af00; text-decoration-color: #00af00\">0</span> │\n",
       "│ (<span style=\"color: #0087ff; text-decoration-color: #0087ff\">TextVectorization</span>)             │                        │               │\n",
       "├─────────────────────────────────┼────────────────────────┼───────────────┤\n",
       "│ char_embed (<span style=\"color: #0087ff; text-decoration-color: #0087ff\">Embedding</span>)          │ (<span style=\"color: #00d7ff; text-decoration-color: #00d7ff\">None</span>, <span style=\"color: #00af00; text-decoration-color: #00af00\">290</span>, <span style=\"color: #00af00; text-decoration-color: #00af00\">25</span>)        │           <span style=\"color: #00af00; text-decoration-color: #00af00\">700</span> │\n",
       "├─────────────────────────────────┼────────────────────────┼───────────────┤\n",
       "│ conv1d_1 (<span style=\"color: #0087ff; text-decoration-color: #0087ff\">Conv1D</span>)               │ (<span style=\"color: #00d7ff; text-decoration-color: #00d7ff\">None</span>, <span style=\"color: #00af00; text-decoration-color: #00af00\">290</span>, <span style=\"color: #00af00; text-decoration-color: #00af00\">64</span>)        │         <span style=\"color: #00af00; text-decoration-color: #00af00\">8,064</span> │\n",
       "├─────────────────────────────────┼────────────────────────┼───────────────┤\n",
       "│ global_max_pooling1d            │ (<span style=\"color: #00d7ff; text-decoration-color: #00d7ff\">None</span>, <span style=\"color: #00af00; text-decoration-color: #00af00\">64</span>)             │             <span style=\"color: #00af00; text-decoration-color: #00af00\">0</span> │\n",
       "│ (<span style=\"color: #0087ff; text-decoration-color: #0087ff\">GlobalMaxPooling1D</span>)            │                        │               │\n",
       "├─────────────────────────────────┼────────────────────────┼───────────────┤\n",
       "│ dense_1 (<span style=\"color: #0087ff; text-decoration-color: #0087ff\">Dense</span>)                 │ (<span style=\"color: #00d7ff; text-decoration-color: #00d7ff\">None</span>, <span style=\"color: #00af00; text-decoration-color: #00af00\">5</span>)              │           <span style=\"color: #00af00; text-decoration-color: #00af00\">325</span> │\n",
       "└─────────────────────────────────┴────────────────────────┴───────────────┘\n",
       "</pre>\n"
      ],
      "text/plain": [
       "┏━━━━━━━━━━━━━━━━━━━━━━━━━━━━━━━━━┳━━━━━━━━━━━━━━━━━━━━━━━━┳━━━━━━━━━━━━━━━┓\n",
       "┃\u001b[1m \u001b[0m\u001b[1mLayer (type)                   \u001b[0m\u001b[1m \u001b[0m┃\u001b[1m \u001b[0m\u001b[1mOutput Shape          \u001b[0m\u001b[1m \u001b[0m┃\u001b[1m \u001b[0m\u001b[1m      Param #\u001b[0m\u001b[1m \u001b[0m┃\n",
       "┡━━━━━━━━━━━━━━━━━━━━━━━━━━━━━━━━━╇━━━━━━━━━━━━━━━━━━━━━━━━╇━━━━━━━━━━━━━━━┩\n",
       "│ input_layer_1 (\u001b[38;5;33mInputLayer\u001b[0m)      │ (\u001b[38;5;45mNone\u001b[0m, \u001b[38;5;34m1\u001b[0m)              │             \u001b[38;5;34m0\u001b[0m │\n",
       "├─────────────────────────────────┼────────────────────────┼───────────────┤\n",
       "│ char_vectorizer                 │ (\u001b[38;5;45mNone\u001b[0m, \u001b[38;5;34m290\u001b[0m)            │             \u001b[38;5;34m0\u001b[0m │\n",
       "│ (\u001b[38;5;33mTextVectorization\u001b[0m)             │                        │               │\n",
       "├─────────────────────────────────┼────────────────────────┼───────────────┤\n",
       "│ char_embed (\u001b[38;5;33mEmbedding\u001b[0m)          │ (\u001b[38;5;45mNone\u001b[0m, \u001b[38;5;34m290\u001b[0m, \u001b[38;5;34m25\u001b[0m)        │           \u001b[38;5;34m700\u001b[0m │\n",
       "├─────────────────────────────────┼────────────────────────┼───────────────┤\n",
       "│ conv1d_1 (\u001b[38;5;33mConv1D\u001b[0m)               │ (\u001b[38;5;45mNone\u001b[0m, \u001b[38;5;34m290\u001b[0m, \u001b[38;5;34m64\u001b[0m)        │         \u001b[38;5;34m8,064\u001b[0m │\n",
       "├─────────────────────────────────┼────────────────────────┼───────────────┤\n",
       "│ global_max_pooling1d            │ (\u001b[38;5;45mNone\u001b[0m, \u001b[38;5;34m64\u001b[0m)             │             \u001b[38;5;34m0\u001b[0m │\n",
       "│ (\u001b[38;5;33mGlobalMaxPooling1D\u001b[0m)            │                        │               │\n",
       "├─────────────────────────────────┼────────────────────────┼───────────────┤\n",
       "│ dense_1 (\u001b[38;5;33mDense\u001b[0m)                 │ (\u001b[38;5;45mNone\u001b[0m, \u001b[38;5;34m5\u001b[0m)              │           \u001b[38;5;34m325\u001b[0m │\n",
       "└─────────────────────────────────┴────────────────────────┴───────────────┘\n"
      ]
     },
     "metadata": {},
     "output_type": "display_data"
    },
    {
     "data": {
      "text/html": [
       "<pre style=\"white-space:pre;overflow-x:auto;line-height:normal;font-family:Menlo,'DejaVu Sans Mono',consolas,'Courier New',monospace\"><span style=\"font-weight: bold\"> Total params: </span><span style=\"color: #00af00; text-decoration-color: #00af00\">9,089</span> (35.50 KB)\n",
       "</pre>\n"
      ],
      "text/plain": [
       "\u001b[1m Total params: \u001b[0m\u001b[38;5;34m9,089\u001b[0m (35.50 KB)\n"
      ]
     },
     "metadata": {},
     "output_type": "display_data"
    },
    {
     "data": {
      "text/html": [
       "<pre style=\"white-space:pre;overflow-x:auto;line-height:normal;font-family:Menlo,'DejaVu Sans Mono',consolas,'Courier New',monospace\"><span style=\"font-weight: bold\"> Trainable params: </span><span style=\"color: #00af00; text-decoration-color: #00af00\">9,089</span> (35.50 KB)\n",
       "</pre>\n"
      ],
      "text/plain": [
       "\u001b[1m Trainable params: \u001b[0m\u001b[38;5;34m9,089\u001b[0m (35.50 KB)\n"
      ]
     },
     "metadata": {},
     "output_type": "display_data"
    },
    {
     "data": {
      "text/html": [
       "<pre style=\"white-space:pre;overflow-x:auto;line-height:normal;font-family:Menlo,'DejaVu Sans Mono',consolas,'Courier New',monospace\"><span style=\"font-weight: bold\"> Non-trainable params: </span><span style=\"color: #00af00; text-decoration-color: #00af00\">0</span> (0.00 B)\n",
       "</pre>\n"
      ],
      "text/plain": [
       "\u001b[1m Non-trainable params: \u001b[0m\u001b[38;5;34m0\u001b[0m (0.00 B)\n"
      ]
     },
     "metadata": {},
     "output_type": "display_data"
    }
   ],
   "source": [
    "model_3.summary()"
   ]
  },
  {
   "cell_type": "markdown",
   "id": "273a1c9f-0b7b-44bb-b2ff-a6c38e77999e",
   "metadata": {},
   "source": [
    "#### Turning data into Tensorflow Datasets to allow fitting of model run faster"
   ]
  },
  {
   "cell_type": "code",
   "execution_count": 77,
   "id": "1a4cb37e-5dde-489b-b847-dab062ba26b7",
   "metadata": {},
   "outputs": [
    {
     "data": {
      "text/plain": [
       "<_PrefetchDataset element_spec=(TensorSpec(shape=(None,), dtype=tf.string, name=None), TensorSpec(shape=(None, 5), dtype=tf.float64, name=None))>"
      ]
     },
     "execution_count": 77,
     "metadata": {},
     "output_type": "execute_result"
    }
   ],
   "source": [
    "train_char_dataset = tf.data.Dataset.from_tensor_slices((train_chars, train_labels_one_hot)).batch(32).prefetch(tf.data.AUTOTUNE)\n",
    "valid_char_dataset = tf.data.Dataset.from_tensor_slices((val_chars, val_labels_one_hot)).batch(32).prefetch(tf.data.AUTOTUNE)\n",
    "test_char_dataset = tf.data.Dataset.from_tensor_slices((test_chars, test_labels_one_hot)).batch(32).prefetch(tf.data.AUTOTUNE)\n",
    "\n",
    "train_char_dataset"
   ]
  },
  {
   "cell_type": "markdown",
   "id": "3491c037-71e9-4da2-a3f4-f7b4500e23a6",
   "metadata": {},
   "source": [
    "#### Fits model"
   ]
  },
  {
   "cell_type": "code",
   "execution_count": 78,
   "id": "39771d11-96d7-4490-9c56-2a46f0416204",
   "metadata": {},
   "outputs": [
    {
     "name": "stdout",
     "output_type": "stream",
     "text": [
      "Epoch 1/3\n",
      "\u001b[1m562/562\u001b[0m \u001b[32m━━━━━━━━━━━━━━━━━━━━\u001b[0m\u001b[37m\u001b[0m \u001b[1m4s\u001b[0m 5ms/step - accuracy: 0.4297 - loss: 1.3781 - val_accuracy: 0.5795 - val_loss: 1.0652\n",
      "Epoch 2/3\n",
      "\u001b[1m562/562\u001b[0m \u001b[32m━━━━━━━━━━━━━━━━━━━━\u001b[0m\u001b[37m\u001b[0m \u001b[1m3s\u001b[0m 5ms/step - accuracy: 0.5738 - loss: 1.0541 - val_accuracy: 0.6184 - val_loss: 0.9661\n",
      "Epoch 3/3\n",
      "\u001b[1m562/562\u001b[0m \u001b[32m━━━━━━━━━━━━━━━━━━━━\u001b[0m\u001b[37m\u001b[0m \u001b[1m3s\u001b[0m 5ms/step - accuracy: 0.6223 - loss: 0.9510 - val_accuracy: 0.6579 - val_loss: 0.8871\n"
     ]
    }
   ],
   "source": [
    "history_model_3 = model_3.fit(train_char_dataset, \n",
    "                              steps_per_epoch= int(0.1 * len(train_char_dataset)),\n",
    "                              epochs = 3, \n",
    "                              validation_data = valid_char_dataset, \n",
    "                              validation_steps = int(0.1 * len(valid_char_dataset)))"
   ]
  },
  {
   "cell_type": "code",
   "execution_count": 79,
   "id": "4ae21ce9-135c-445f-bfd3-477693586ff3",
   "metadata": {},
   "outputs": [
    {
     "name": "stdout",
     "output_type": "stream",
     "text": [
      "\u001b[1m945/945\u001b[0m \u001b[32m━━━━━━━━━━━━━━━━━━━━\u001b[0m\u001b[37m\u001b[0m \u001b[1m2s\u001b[0m 2ms/step - accuracy: 0.6472 - loss: 0.9024\n"
     ]
    },
    {
     "data": {
      "text/plain": [
       "[0.9052750468254089, 0.6457698941230774]"
      ]
     },
     "execution_count": 79,
     "metadata": {},
     "output_type": "execute_result"
    }
   ],
   "source": [
    "# Evaluates on whole validation dataset.\n",
    "model_3.evaluate(valid_char_dataset)"
   ]
  },
  {
   "cell_type": "code",
   "execution_count": 80,
   "id": "cb290f22-697c-4115-b2aa-6e620c280cd1",
   "metadata": {},
   "outputs": [
    {
     "name": "stdout",
     "output_type": "stream",
     "text": [
      "\u001b[1m945/945\u001b[0m \u001b[32m━━━━━━━━━━━━━━━━━━━━\u001b[0m\u001b[37m\u001b[0m \u001b[1m2s\u001b[0m 2ms/step\n"
     ]
    },
    {
     "data": {
      "text/plain": [
       "(array([[0.21810819, 0.17571688, 0.28521127, 0.1512856 , 0.16967803],\n",
       "        [0.18613598, 0.14968514, 0.36480892, 0.11879049, 0.1805795 ],\n",
       "        [0.17170413, 0.15743372, 0.36561048, 0.14753926, 0.15771234],\n",
       "        ...,\n",
       "        [0.18005823, 0.20515104, 0.21763629, 0.08644558, 0.3107088 ],\n",
       "        [0.22198632, 0.17889142, 0.2812302 , 0.15364227, 0.16424972],\n",
       "        [0.18613598, 0.14968514, 0.36480892, 0.11879049, 0.1805795 ]],\n",
       "       dtype=float32),\n",
       " (30212, 5))"
      ]
     },
     "execution_count": 80,
     "metadata": {},
     "output_type": "execute_result"
    }
   ],
   "source": [
    "# Making prediction on model_3.\n",
    "model_3_pred_probs = model_3.predict(valid_dataset)\n",
    "model_3_pred_probs, model_3_pred_probs.shape"
   ]
  },
  {
   "cell_type": "code",
   "execution_count": 81,
   "id": "b2844497-a84d-41a2-9e04-1affb9be8051",
   "metadata": {},
   "outputs": [
    {
     "data": {
      "text/plain": [
       "<tf.Tensor: shape=(30212,), dtype=int64, numpy=array([2, 2, 2, ..., 4, 2, 2], dtype=int64)>"
      ]
     },
     "execution_count": 81,
     "metadata": {},
     "output_type": "execute_result"
    }
   ],
   "source": [
    "# Converting predictions' propabilietes to classes.\n",
    "model_3_preds = tf.argmax(model_3_pred_probs, axis = 1)\n",
    "model_3_preds"
   ]
  },
  {
   "cell_type": "code",
   "execution_count": 82,
   "id": "7f68e533-7d28-4f62-bd11-fab9641b6fbb",
   "metadata": {},
   "outputs": [
    {
     "data": {
      "text/plain": [
       "{'accuracy': 37.89553819674302,\n",
       " 'precision': 0.39692284136202055,\n",
       " 'recall': 0.37895538196743017,\n",
       " 'f1': 0.2973289860096595}"
      ]
     },
     "execution_count": 82,
     "metadata": {},
     "output_type": "execute_result"
    }
   ],
   "source": [
    "# Calculating model_3 results.\n",
    "model_3_results = hf.calculate_results(y_true = val_labels_encoded,\n",
    "                                       y_pred = model_3_preds)\n",
    "model_3_results"
   ]
  },
  {
   "cell_type": "code",
   "execution_count": 83,
   "id": "ef259317-3ea8-4278-9890-58614beae724",
   "metadata": {
    "scrolled": true
   },
   "outputs": [
    {
     "name": "stdout",
     "output_type": "stream",
     "text": [
      "The \"accuracy\" of new model '37.90', is LOWER than baseline's '72.18' => -34.29.\n",
      "\n",
      "The \"precision\" of new model '0.40', is LOWER than baseline's '0.72' => -0.32.\n",
      "\n",
      "The \"recall\" of new model '0.38', is LOWER than baseline's '0.72' => -0.34.\n",
      "\n",
      "The \"f1\" of new model '0.30', is LOWER than baseline's '0.70' => -0.40.\n",
      "\n"
     ]
    }
   ],
   "source": [
    "# Compares the baseline model against to model_3.\n",
    "hf.compare_baseline_to_new_model_results(baseline_results, model_3_results)"
   ]
  },
  {
   "cell_type": "markdown",
   "id": "153da39a-7b2b-4275-93d3-369a14693f77",
   "metadata": {},
   "source": [
    "### Model 4: Combining pretrained token embeddings + character embeddings (hybrid embedding layer)"
   ]
  },
  {
   "cell_type": "markdown",
   "id": "c70fd696-6ba6-4097-965c-0118e35958cc",
   "metadata": {},
   "source": [
    "> #### It is mandatory a recreation of tokenization and embedding layers, because we are using a Functional API with tensorflow_hub. Tensorflow Hub, does not supported from \"tf.keras\", but only with \"tf_keras\" which is an alternative option, giving the opportunity of tensorflow hub or kagglehub, on TensorFlow 2 newer version. "
   ]
  },
  {
   "cell_type": "markdown",
   "id": "09d4bda6-2d69-4a6b-8277-79e7a444e16b",
   "metadata": {},
   "source": [
    "#### 1. Setting up token inputs / model"
   ]
  },
  {
   "cell_type": "code",
   "execution_count": 84,
   "id": "0269525d-b03a-4ec9-8460-6b5f9bc3a883",
   "metadata": {},
   "outputs": [],
   "source": [
    "token_inputs = tf_keras.layers.Input(shape = [], dtype = tf.string, name = \"token_input\")\n",
    "token_embeddings = tf_hub_embedding_layer(token_inputs)\n",
    "token_output = tf_keras.layers.Dense(128, activation = \"relu\")(token_embeddings)\n",
    "token_model = tf_keras.Model(inputs = token_inputs, outputs = token_output)"
   ]
  },
  {
   "cell_type": "markdown",
   "id": "09a7b2e5-1afb-417e-aa80-9afa10acb70e",
   "metadata": {},
   "source": [
    "#### 2. Setting up character inputs / model"
   ]
  },
  {
   "cell_type": "code",
   "execution_count": 85,
   "id": "dcea9130-b4e3-474b-bc3e-25bcabbc37c8",
   "metadata": {},
   "outputs": [],
   "source": [
    "char_vectorizer_hub = tf_keras.layers.TextVectorization(max_tokens = NUM_CHAR_TOKENS, \n",
    "                                                        output_sequence_length = best_num_of_chars_per_sentence,\n",
    "                                                        # standardize = None, # If line is enabled, then punctuation symbols will be included\n",
    "                                                        name = \"char_vectorizer_hub\")\n",
    "char_vectorizer_hub.adapt(train_chars)\n",
    "\n",
    "# Creates char embedding layer.\n",
    "char_embed_hub = tf_keras.layers.Embedding(input_dim = len(char_vocab),\n",
    "                                           output_dim = 25,\n",
    "                                           mask_zero = True,\n",
    "                                           name = \"char_embed_hub\")"
   ]
  },
  {
   "cell_type": "code",
   "execution_count": 86,
   "id": "65e10e00-f7ff-49c9-beae-7b7b455798d8",
   "metadata": {},
   "outputs": [],
   "source": [
    "char_inputs = tf_keras.layers.Input(shape = (1, ), dtype = tf.string, name = \"char_input\")\n",
    "char_vectors_hub = char_vectorizer_hub(char_inputs)\n",
    "char_embeddings_hub = char_embed_hub(char_vectors_hub)\n",
    "char_bi_lstm = tf_keras.layers.Bidirectional(tf_keras.layers.LSTM(units = 24))(char_embeddings_hub)\n",
    "char_model = tf_keras.Model(inputs = char_inputs, outputs = char_bi_lstm)"
   ]
  },
  {
   "cell_type": "markdown",
   "id": "c0e3c2c1-5950-422f-8e7e-56822efe2bd8",
   "metadata": {},
   "source": [
    "#### 3. Concatanating of token & character inputs"
   ]
  },
  {
   "cell_type": "code",
   "execution_count": 87,
   "id": "d606e752-d5ff-4274-b4e2-a96721285e1b",
   "metadata": {},
   "outputs": [],
   "source": [
    "token_char_concat = tf.keras.layers.Concatenate(name = \"token_char_hybrid\")([token_model.output, char_model.output])"
   ]
  },
  {
   "cell_type": "markdown",
   "id": "9bdc4355-013c-4f63-9ea6-592754b5863e",
   "metadata": {},
   "source": [
    "#### 4. Creating output layers - adding dropout"
   ]
  },
  {
   "cell_type": "code",
   "execution_count": 88,
   "id": "bbdbe9fe-c516-441a-9c6b-5c6a2c97eac0",
   "metadata": {},
   "outputs": [],
   "source": [
    "combined_dropout = tf_keras.layers.Dropout(0.5)(token_char_concat)\n",
    "combined_dense = tf_keras.layers.Dense(128, activation=\"relu\")(combined_dropout) # slightly different to Figure 1 due to different shapes of token/char embedding layers\n",
    "final_dropout = tf_keras.layers.Dropout(0.5)(combined_dense)\n",
    "output_layer = tf_keras.layers.Dense(units = num_classes, activation = \"softmax\")(final_dropout)"
   ]
  },
  {
   "cell_type": "markdown",
   "id": "66a1f337-4aea-47b0-809a-aec0c98ef70e",
   "metadata": {},
   "source": [
    "#### 5. Constructs model with char and token inputs."
   ]
  },
  {
   "cell_type": "code",
   "execution_count": 89,
   "id": "2d8ffaaf-986a-4e8d-bb51-72bf82f0c85c",
   "metadata": {},
   "outputs": [],
   "source": [
    "model_4 = tf_keras.Model(inputs = [token_model.input, char_model.input],\n",
    "                         outputs = output_layer,\n",
    "                         name = \"model_4_token_and_char_embedding\")"
   ]
  },
  {
   "cell_type": "code",
   "execution_count": 90,
   "id": "b3342ea1-4c79-46dd-b79c-8f1019ce2dea",
   "metadata": {},
   "outputs": [
    {
     "name": "stdout",
     "output_type": "stream",
     "text": [
      "Model: \"model_4_token_and_char_embedding\"\n",
      "__________________________________________________________________________________________________\n",
      " Layer (type)                Output Shape                 Param #   Connected to                  \n",
      "==================================================================================================\n",
      " char_input (InputLayer)     [(None, 1)]                  0         []                            \n",
      "                                                                                                  \n",
      " token_input (InputLayer)    [(None,)]                    0         []                            \n",
      "                                                                                                  \n",
      " char_vectorizer_hub (TextV  (None, 290)                  0         ['char_input[0][0]']          \n",
      " ectorization)                                                                                    \n",
      "                                                                                                  \n",
      " universal_sentence_encoder  (None, 512)                  2567978   ['token_input[0][0]']         \n",
      "  (KerasLayer)                                            24                                      \n",
      "                                                                                                  \n",
      " char_embed_hub (Embedding)  (None, 290, 25)              700       ['char_vectorizer_hub[0][0]'] \n",
      "                                                                                                  \n",
      " dense_2 (Dense)             (None, 128)                  65664     ['universal_sentence_encoder[1\n",
      "                                                                    ][0]']                        \n",
      "                                                                                                  \n",
      " bidirectional (Bidirection  (None, 48)                   9600      ['char_embed_hub[0][0]']      \n",
      " al)                                                                                              \n",
      "                                                                                                  \n",
      " tf.concat (TFOpLambda)      (None, 176)                  0         ['dense_2[0][0]',             \n",
      "                                                                     'bidirectional[0][0]']       \n",
      "                                                                                                  \n",
      " dropout (Dropout)           (None, 176)                  0         ['tf.concat[0][0]']           \n",
      "                                                                                                  \n",
      " dense_3 (Dense)             (None, 128)                  22656     ['dropout[0][0]']             \n",
      "                                                                                                  \n",
      " dropout_1 (Dropout)         (None, 128)                  0         ['dense_3[0][0]']             \n",
      "                                                                                                  \n",
      " dense_4 (Dense)             (None, 5)                    645       ['dropout_1[0][0]']           \n",
      "                                                                                                  \n",
      "==================================================================================================\n",
      "Total params: 256897089 (979.98 MB)\n",
      "Trainable params: 99265 (387.75 KB)\n",
      "Non-trainable params: 256797824 (979.61 MB)\n",
      "__________________________________________________________________________________________________\n"
     ]
    }
   ],
   "source": [
    "model_4.summary()"
   ]
  },
  {
   "cell_type": "code",
   "execution_count": 91,
   "id": "d04faf6d-26e6-4610-a308-9b5e822cc6d2",
   "metadata": {},
   "outputs": [],
   "source": [
    "# !pip install pydot\n",
    "# !pip install pydotplus\n",
    "# !pip install graphviz"
   ]
  },
  {
   "cell_type": "code",
   "execution_count": 92,
   "id": "74e91c24-7834-4b4e-8438-f162da135b53",
   "metadata": {},
   "outputs": [
    {
     "data": {
      "image/png": "[encoded data removed]",
      "text/plain": [
       "<IPython.core.display.Image object>"
      ]
     },
     "execution_count": 92,
     "metadata": {},
     "output_type": "execute_result"
    }
   ],
   "source": [
    "tf_keras.utils.plot_model(model_4, show_shapes = True, show_layer_names = True)"
   ]
  },
  {
   "cell_type": "code",
   "execution_count": 93,
   "id": "a4ebad1b-69d4-4825-9dc1-03d29f1f328d",
   "metadata": {},
   "outputs": [],
   "source": [
    "# Compiles hybrid model (token - char model)\n",
    "model_4.compile(loss = \"categorical_crossentropy\", \n",
    "                optimizer = tf_keras.optimizers.Adam(), \n",
    "                metrics = [\"accuracy\"])"
   ]
  },
  {
   "cell_type": "markdown",
   "id": "a8c1866d-c5c3-4712-bcae-393a8a8da9c8",
   "metadata": {},
   "source": [
    "#### Turning data into Tensorflow Datasets to allow fitting of hybrid model run faster"
   ]
  },
  {
   "cell_type": "code",
   "execution_count": 94,
   "id": "3b5dcbbe-08e2-424a-b518-1e25a9a2022b",
   "metadata": {},
   "outputs": [
    {
     "data": {
      "text/plain": [
       "(<_TensorSliceDataset element_spec=(TensorSpec(shape=(), dtype=tf.string, name=None), TensorSpec(shape=(), dtype=tf.string, name=None))>,\n",
       " <_TensorSliceDataset element_spec=(TensorSpec(shape=(), dtype=tf.string, name=None), TensorSpec(shape=(), dtype=tf.string, name=None))>)"
      ]
     },
     "execution_count": 94,
     "metadata": {},
     "output_type": "execute_result"
    }
   ],
   "source": [
    "train_char_token_data = tf.data.Dataset.from_tensor_slices((train_sentences, train_chars)) # makes data\n",
    "train_char_token_labels = tf.data.Dataset.from_tensor_slices(train_labels_one_hot) # makes lables\n",
    "train_char_token_dataset = tf.data.Dataset.zip((train_char_token_data, train_char_token_labels)) # combines data and labels\n",
    "\n",
    "# Prefetches and batch train data.\n",
    "train_char_token_dataset = train_char_token_dataset.batch(32).prefetch(tf.data.AUTOTUNE)\n",
    "\n",
    "# Repeats same steps for validation data.\n",
    "val_char_token_data = tf.data.Dataset.from_tensor_slices((val_sentences, val_chars))\n",
    "val_char_token_labels = tf.data.Dataset.from_tensor_slices(val_labels_one_hot)\n",
    "val_char_token_dataset = tf.data.Dataset.zip((val_char_token_data, val_char_token_labels))\n",
    "val_char_token_dataset = val_char_token_dataset.batch(32).prefetch(tf.data.AUTOTUNE)\n",
    "\n",
    "train_char_token_data, val_char_token_data"
   ]
  },
  {
   "cell_type": "markdown",
   "id": "6fb5e038-162f-4274-bf1d-742048a90bf3",
   "metadata": {},
   "source": [
    "#### Fitting a model on token and char dataset"
   ]
  },
  {
   "cell_type": "code",
   "execution_count": 95,
   "id": "d6c462ee-4506-47d6-8062-8bc3eb603874",
   "metadata": {},
   "outputs": [
    {
     "name": "stdout",
     "output_type": "stream",
     "text": [
      "Epoch 1/3\n",
      "562/562 [==============================] - 53s 84ms/step - loss: 0.9900 - accuracy: 0.6065 - val_loss: 0.7958 - val_accuracy: 0.6918\n",
      "Epoch 2/3\n",
      "562/562 [==============================] - 46s 82ms/step - loss: 0.8045 - accuracy: 0.6888 - val_loss: 0.7238 - val_accuracy: 0.7231\n",
      "Epoch 3/3\n",
      "562/562 [==============================] - 45s 80ms/step - loss: 0.7746 - accuracy: 0.7030 - val_loss: 0.6954 - val_accuracy: 0.7367\n"
     ]
    }
   ],
   "source": [
    "histoty_model_4 = model_4.fit(train_char_token_dataset, \n",
    "                              steps_per_epoch= int(0.1 * len(train_char_token_dataset)),\n",
    "                              epochs = 3, \n",
    "                              validation_data = val_char_token_dataset, \n",
    "                              validation_steps = int(0.1 * len(val_char_token_dataset)))"
   ]
  },
  {
   "cell_type": "code",
   "execution_count": 96,
   "id": "28222236-5ad0-4de7-8fd4-55a5345b6246",
   "metadata": {},
   "outputs": [
    {
     "name": "stdout",
     "output_type": "stream",
     "text": [
      "945/945 [==============================] - 19s 20ms/step - loss: 0.6956 - accuracy: 0.7358\n"
     ]
    },
    {
     "data": {
      "text/plain": [
       "[0.6955814361572266, 0.735833466053009]"
      ]
     },
     "execution_count": 96,
     "metadata": {},
     "output_type": "execute_result"
    }
   ],
   "source": [
    "# Evaluates on whole validation dataset.\n",
    "model_4.evaluate(val_char_token_dataset)"
   ]
  },
  {
   "cell_type": "code",
   "execution_count": 97,
   "id": "c82c7bd4-a6d9-42b4-a79a-d02a25ec6e49",
   "metadata": {},
   "outputs": [
    {
     "name": "stdout",
     "output_type": "stream",
     "text": [
      "945/945 [==============================] - 21s 20ms/step\n"
     ]
    },
    {
     "data": {
      "text/plain": [
       "(array([[4.1741911e-01, 3.6654550e-01, 3.7499811e-03, 2.0422877e-01,\n",
       "         8.0566937e-03],\n",
       "        [3.3932257e-01, 5.2386266e-01, 3.3307022e-03, 1.3045928e-01,\n",
       "         3.0247367e-03],\n",
       "        [2.6378298e-01, 1.5898125e-01, 3.7997261e-02, 5.0187755e-01,\n",
       "         3.7361000e-02],\n",
       "        ...,\n",
       "        [4.5841804e-04, 5.5405176e-03, 7.5232238e-02, 1.5509510e-04,\n",
       "         9.1861373e-01],\n",
       "        [6.7920885e-03, 5.2476518e-02, 2.2547147e-01, 2.8785716e-03,\n",
       "         7.1238136e-01],\n",
       "        [2.7667996e-01, 4.8257756e-01, 1.7747448e-01, 2.3673913e-02,\n",
       "         3.9594103e-02]], dtype=float32),\n",
       " (30212, 5))"
      ]
     },
     "execution_count": 97,
     "metadata": {},
     "output_type": "execute_result"
    }
   ],
   "source": [
    "# Making prediction on model_4.\n",
    "model_4_pred_probs = model_4.predict(val_char_token_dataset)\n",
    "model_4_pred_probs, model_4_pred_probs.shape"
   ]
  },
  {
   "cell_type": "code",
   "execution_count": 98,
   "id": "f61df34b-70af-40e5-9efa-132ae71ae5b1",
   "metadata": {},
   "outputs": [
    {
     "data": {
      "text/plain": [
       "<tf.Tensor: shape=(30212,), dtype=int64, numpy=array([0, 1, 3, ..., 4, 4, 1], dtype=int64)>"
      ]
     },
     "execution_count": 98,
     "metadata": {},
     "output_type": "execute_result"
    }
   ],
   "source": [
    "# Converting predictions' propabilietes to classes.\n",
    "model_4_preds = tf.argmax(model_4_pred_probs, axis = 1)\n",
    "model_4_preds"
   ]
  },
  {
   "cell_type": "code",
   "execution_count": 99,
   "id": "fff020bd-4b41-4363-a594-6c949acffb0c",
   "metadata": {},
   "outputs": [
    {
     "data": {
      "text/plain": [
       "{'accuracy': 73.5833443664769,\n",
       " 'precision': 0.7374367725592845,\n",
       " 'recall': 0.735833443664769,\n",
       " 'f1': 0.7338771194450197}"
      ]
     },
     "execution_count": 99,
     "metadata": {},
     "output_type": "execute_result"
    }
   ],
   "source": [
    "# Calculating model_4 results.\n",
    "model_4_results = hf.calculate_results(y_true = val_labels_encoded,\n",
    "                                       y_pred = model_4_preds)\n",
    "model_4_results"
   ]
  },
  {
   "cell_type": "code",
   "execution_count": 100,
   "id": "ec886d3f-cc5f-449c-9068-f744943cde4e",
   "metadata": {},
   "outputs": [
    {
     "name": "stdout",
     "output_type": "stream",
     "text": [
      "The \"accuracy\" of new model '73.58', is BETTER than baseline's '72.18' => 1.40.\n",
      "\n",
      "The \"precision\" of new model '0.74', is BETTER than baseline's '0.72' => 0.02.\n",
      "\n",
      "The \"recall\" of new model '0.74', is BETTER than baseline's '0.72' => 0.01.\n",
      "\n",
      "The \"f1\" of new model '0.73', is BETTER than baseline's '0.70' => 0.03.\n",
      "\n"
     ]
    }
   ],
   "source": [
    "# Compares the baseline model against to model_4.\n",
    "hf.compare_baseline_to_new_model_results(baseline_results, model_4_results)"
   ]
  },
  {
   "cell_type": "markdown",
   "id": "48110ecf-a097-4a20-922c-81d3c735a79d",
   "metadata": {},
   "source": [
    "### Model 5: Transfer Learning with pretrained token embeddings + character embeddings + positional embeddings"
   ]
  },
  {
   "cell_type": "code",
   "execution_count": 101,
   "id": "c6d4f33d-bfa5-4450-b0be-f4aec5a0ace9",
   "metadata": {},
   "outputs": [
    {
     "data": {
      "text/html": [
       "<div>\n",
       "<style scoped>\n",
       "    .dataframe tbody tr th:only-of-type {\n",
       "        vertical-align: middle;\n",
       "    }\n",
       "\n",
       "    .dataframe tbody tr th {\n",
       "        vertical-align: top;\n",
       "    }\n",
       "\n",
       "    .dataframe thead th {\n",
       "        text-align: right;\n",
       "    }\n",
       "</style>\n",
       "<table border=\"1\" class=\"dataframe\">\n",
       "  <thead>\n",
       "    <tr style=\"text-align: right;\">\n",
       "      <th></th>\n",
       "      <th>target</th>\n",
       "      <th>text</th>\n",
       "      <th>line_number</th>\n",
       "      <th>total_lines</th>\n",
       "    </tr>\n",
       "  </thead>\n",
       "  <tbody>\n",
       "    <tr>\n",
       "      <th>0</th>\n",
       "      <td>OBJECTIVE</td>\n",
       "      <td>to investigate the efficacy of @ weeks of dail...</td>\n",
       "      <td>0</td>\n",
       "      <td>11</td>\n",
       "    </tr>\n",
       "    <tr>\n",
       "      <th>1</th>\n",
       "      <td>METHODS</td>\n",
       "      <td>a total of @ patients with primary knee oa wer...</td>\n",
       "      <td>1</td>\n",
       "      <td>11</td>\n",
       "    </tr>\n",
       "    <tr>\n",
       "      <th>2</th>\n",
       "      <td>METHODS</td>\n",
       "      <td>outcome measures included pain reduction and i...</td>\n",
       "      <td>2</td>\n",
       "      <td>11</td>\n",
       "    </tr>\n",
       "    <tr>\n",
       "      <th>3</th>\n",
       "      <td>METHODS</td>\n",
       "      <td>pain was assessed using the visual analog pain...</td>\n",
       "      <td>3</td>\n",
       "      <td>11</td>\n",
       "    </tr>\n",
       "    <tr>\n",
       "      <th>4</th>\n",
       "      <td>METHODS</td>\n",
       "      <td>secondary outcome measures included the wester...</td>\n",
       "      <td>4</td>\n",
       "      <td>11</td>\n",
       "    </tr>\n",
       "  </tbody>\n",
       "</table>\n",
       "</div>"
      ],
      "text/plain": [
       "      target                                               text  line_number  \\\n",
       "0  OBJECTIVE  to investigate the efficacy of @ weeks of dail...            0   \n",
       "1    METHODS  a total of @ patients with primary knee oa wer...            1   \n",
       "2    METHODS  outcome measures included pain reduction and i...            2   \n",
       "3    METHODS  pain was assessed using the visual analog pain...            3   \n",
       "4    METHODS  secondary outcome measures included the wester...            4   \n",
       "\n",
       "   total_lines  \n",
       "0           11  \n",
       "1           11  \n",
       "2           11  \n",
       "3           11  \n",
       "4           11  "
      ]
     },
     "execution_count": 101,
     "metadata": {},
     "output_type": "execute_result"
    }
   ],
   "source": [
    "train_df.head()"
   ]
  },
  {
   "cell_type": "markdown",
   "id": "2772f668-40b3-4fc1-8a57-cbddedf85998",
   "metadata": {},
   "source": [
    "#### Creating positional embeddings"
   ]
  },
  {
   "cell_type": "code",
   "execution_count": 102,
   "id": "29955cb0-2d9e-413b-9ade-ab998e433daa",
   "metadata": {},
   "outputs": [
    {
     "data": {
      "text/plain": [
       "line_number\n",
       "0     15000\n",
       "1     15000\n",
       "2     15000\n",
       "3     15000\n",
       "4     14992\n",
       "5     14949\n",
       "6     14758\n",
       "7     14279\n",
       "8     13346\n",
       "9     11981\n",
       "10    10041\n",
       "11     7892\n",
       "12     5853\n",
       "13     4152\n",
       "14     2835\n",
       "15     1861\n",
       "16     1188\n",
       "17      751\n",
       "18      462\n",
       "19      286\n",
       "20      162\n",
       "21      101\n",
       "22       66\n",
       "23       33\n",
       "24       22\n",
       "25       14\n",
       "26        7\n",
       "27        4\n",
       "28        3\n",
       "29        1\n",
       "30        1\n",
       "Name: count, dtype: int64"
      ]
     },
     "execution_count": 102,
     "metadata": {},
     "output_type": "execute_result"
    }
   ],
   "source": [
    "# How many different line numbers are there ?\n",
    "train_df[\"line_number\"].value_counts()"
   ]
  },
  {
   "cell_type": "code",
   "execution_count": 103,
   "id": "bbafde51-0aa2-46ad-a2db-7e51f427dc20",
   "metadata": {},
   "outputs": [
    {
     "data": {
      "text/plain": [
       "<Axes: ylabel='Frequency'>"
      ]
     },
     "execution_count": 103,
     "metadata": {},
     "output_type": "execute_result"
    },
    {
     "data": {
      "image/png": "[encoded data removed]",
      "text/plain": [
       "<Figure size 640x480 with 1 Axes>"
      ]
     },
     "metadata": {},
     "output_type": "display_data"
    }
   ],
   "source": [
    "# Checking the distribution of \"line_number\" column\n",
    "train_df.line_number.plot.hist()"
   ]
  },
  {
   "cell_type": "code",
   "execution_count": 104,
   "id": "f2b1e05a-0511-4637-9f65-58a57ae04799",
   "metadata": {},
   "outputs": [],
   "source": [
    "# Using TensorFlow to create one-hot-encoded tensors of our \"line_number\" column.\n",
    "train_line_numbers_one_hot = tf.one_hot(train_df[\"line_number\"].to_numpy(), depth = 15)\n",
    "val_line_numbers_one_hot = tf.one_hot(val_df[\"line_number\"].to_numpy(), depth = 15)\n",
    "test_line_numbers_one_hot = tf.one_hot(test_df[\"line_number\"].to_numpy(), depth = 15)"
   ]
  },
  {
   "cell_type": "code",
   "execution_count": 105,
   "id": "5093bc85-4d18-478f-a334-f66a9b92d1cb",
   "metadata": {},
   "outputs": [
    {
     "data": {
      "text/plain": [
       "(<tf.Tensor: shape=(14, 15), dtype=float32, numpy=\n",
       " array([[1., 0., 0., 0., 0., 0., 0., 0., 0., 0., 0., 0., 0., 0., 0.],\n",
       "        [0., 1., 0., 0., 0., 0., 0., 0., 0., 0., 0., 0., 0., 0., 0.],\n",
       "        [0., 0., 1., 0., 0., 0., 0., 0., 0., 0., 0., 0., 0., 0., 0.],\n",
       "        [0., 0., 0., 1., 0., 0., 0., 0., 0., 0., 0., 0., 0., 0., 0.],\n",
       "        [0., 0., 0., 0., 1., 0., 0., 0., 0., 0., 0., 0., 0., 0., 0.],\n",
       "        [0., 0., 0., 0., 0., 1., 0., 0., 0., 0., 0., 0., 0., 0., 0.],\n",
       "        [0., 0., 0., 0., 0., 0., 1., 0., 0., 0., 0., 0., 0., 0., 0.],\n",
       "        [0., 0., 0., 0., 0., 0., 0., 1., 0., 0., 0., 0., 0., 0., 0.],\n",
       "        [0., 0., 0., 0., 0., 0., 0., 0., 1., 0., 0., 0., 0., 0., 0.],\n",
       "        [0., 0., 0., 0., 0., 0., 0., 0., 0., 1., 0., 0., 0., 0., 0.],\n",
       "        [0., 0., 0., 0., 0., 0., 0., 0., 0., 0., 1., 0., 0., 0., 0.],\n",
       "        [0., 0., 0., 0., 0., 0., 0., 0., 0., 0., 0., 1., 0., 0., 0.],\n",
       "        [1., 0., 0., 0., 0., 0., 0., 0., 0., 0., 0., 0., 0., 0., 0.],\n",
       "        [0., 1., 0., 0., 0., 0., 0., 0., 0., 0., 0., 0., 0., 0., 0.]],\n",
       "       dtype=float32)>,\n",
       " TensorShape([180040, 15]))"
      ]
     },
     "execution_count": 105,
     "metadata": {},
     "output_type": "execute_result"
    }
   ],
   "source": [
    "train_line_numbers_one_hot[:14], train_line_numbers_one_hot.shape"
   ]
  },
  {
   "cell_type": "code",
   "execution_count": 106,
   "id": "d233379a-49ce-41db-87d7-139bee5aedee",
   "metadata": {},
   "outputs": [
    {
     "data": {
      "text/plain": [
       "total_lines\n",
       "11    24468\n",
       "10    23639\n",
       "12    22113\n",
       "9     19400\n",
       "13    18438\n",
       "14    14610\n",
       "8     12285\n",
       "15    10768\n",
       "7      7464\n",
       "16     7429\n",
       "17     5202\n",
       "6      3353\n",
       "18     3344\n",
       "19     2480\n",
       "20     1281\n",
       "5      1146\n",
       "21      770\n",
       "22      759\n",
       "23      264\n",
       "4       215\n",
       "24      200\n",
       "25      182\n",
       "26       81\n",
       "28       58\n",
       "3        32\n",
       "30       31\n",
       "27       28\n",
       "Name: count, dtype: int64"
      ]
     },
     "execution_count": 106,
     "metadata": {},
     "output_type": "execute_result"
    }
   ],
   "source": [
    "# How many different numbers of lines are there?\n",
    "train_df[\"total_lines\"].value_counts()"
   ]
  },
  {
   "cell_type": "code",
   "execution_count": 107,
   "id": "20cd5cf2-87b2-44a0-b789-5f50630e69ca",
   "metadata": {},
   "outputs": [
    {
     "data": {
      "image/png": "[encoded data removed]",
      "text/plain": [
       "<Figure size 640x480 with 1 Axes>"
      ]
     },
     "metadata": {},
     "output_type": "display_data"
    }
   ],
   "source": [
    "# Check the distribution of total lines\n",
    "train_df.total_lines.plot.hist();"
   ]
  },
  {
   "cell_type": "code",
   "execution_count": 108,
   "id": "011cfb1d-7622-4e5f-adac-f7147918a5f7",
   "metadata": {},
   "outputs": [
    {
     "data": {
      "text/plain": [
       "20"
      ]
     },
     "execution_count": 108,
     "metadata": {},
     "output_type": "execute_result"
    }
   ],
   "source": [
    "# Looking for the best number of total_lines, based on 98% of occurencies.\n",
    "best_total_line_num = int(np.percentile(train_df.total_lines, 98))\n",
    "best_total_line_num"
   ]
  },
  {
   "cell_type": "code",
   "execution_count": 109,
   "id": "e142260e-1683-4f08-830a-ec05fc837cc3",
   "metadata": {},
   "outputs": [],
   "source": [
    "# Using TensorFlow to create one-hot-encoded tensors of our \"total_lines\" column.\n",
    "train_total_lines_one_hot = tf.one_hot(train_df[\"total_lines\"].to_numpy(), depth = best_total_line_num)\n",
    "val_total_lines_one_hot = tf.one_hot(val_df[\"total_lines\"].to_numpy(), depth = best_total_line_num)\n",
    "test_total_lines_one_hot = tf.one_hot(test_df[\"total_lines\"].to_numpy(), depth = best_total_line_num)"
   ]
  },
  {
   "cell_type": "code",
   "execution_count": 110,
   "id": "be63cddd-0bff-4601-a3c7-36071c7aa4fc",
   "metadata": {},
   "outputs": [
    {
     "data": {
      "text/plain": [
       "(TensorShape([180040, 20]),\n",
       " <tf.Tensor: shape=(10, 20), dtype=float32, numpy=\n",
       " array([[0., 0., 0., 0., 0., 0., 0., 0., 0., 0., 0., 1., 0., 0., 0., 0.,\n",
       "         0., 0., 0., 0.],\n",
       "        [0., 0., 0., 0., 0., 0., 0., 0., 0., 0., 0., 1., 0., 0., 0., 0.,\n",
       "         0., 0., 0., 0.],\n",
       "        [0., 0., 0., 0., 0., 0., 0., 0., 0., 0., 0., 1., 0., 0., 0., 0.,\n",
       "         0., 0., 0., 0.],\n",
       "        [0., 0., 0., 0., 0., 0., 0., 0., 0., 0., 0., 1., 0., 0., 0., 0.,\n",
       "         0., 0., 0., 0.],\n",
       "        [0., 0., 0., 0., 0., 0., 0., 0., 0., 0., 0., 1., 0., 0., 0., 0.,\n",
       "         0., 0., 0., 0.],\n",
       "        [0., 0., 0., 0., 0., 0., 0., 0., 0., 0., 0., 1., 0., 0., 0., 0.,\n",
       "         0., 0., 0., 0.],\n",
       "        [0., 0., 0., 0., 0., 0., 0., 0., 0., 0., 0., 1., 0., 0., 0., 0.,\n",
       "         0., 0., 0., 0.],\n",
       "        [0., 0., 0., 0., 0., 0., 0., 0., 0., 0., 0., 1., 0., 0., 0., 0.,\n",
       "         0., 0., 0., 0.],\n",
       "        [0., 0., 0., 0., 0., 0., 0., 0., 0., 0., 0., 1., 0., 0., 0., 0.,\n",
       "         0., 0., 0., 0.],\n",
       "        [0., 0., 0., 0., 0., 0., 0., 0., 0., 0., 0., 1., 0., 0., 0., 0.,\n",
       "         0., 0., 0., 0.]], dtype=float32)>)"
      ]
     },
     "execution_count": 110,
     "metadata": {},
     "output_type": "execute_result"
    }
   ],
   "source": [
    "# Checking the shape and samples of total lines one-hot tensor.\n",
    "train_total_lines_one_hot.shape, train_total_lines_one_hot[:10]"
   ]
  },
  {
   "cell_type": "markdown",
   "id": "0cbf1e0b-1994-4577-90d5-7ddb99985055",
   "metadata": {},
   "source": [
    "#### Building a hybrid embedding model, being a combined version of 3 models"
   ]
  },
  {
   "cell_type": "code",
   "execution_count": 111,
   "id": "61905cc5-88ae-48e7-bf7f-59a9ddbe80b0",
   "metadata": {},
   "outputs": [],
   "source": [
    "# 1. Token inputs.\n",
    "token_inputs = tf_keras.layers.Input(shape = [], dtype = \"string\", name = \"token_inputs\")\n",
    "token_embeddings = tf_hub_embedding_layer(token_inputs)\n",
    "token_outputs = tf_keras.layers.Dense(128, activation = \"relu\")(token_embeddings)\n",
    "token_model = tf_keras.Model(inputs = token_inputs, outputs = token_outputs)\n",
    "\n",
    "# 2. Char inputs.\n",
    "char_inputs = tf_keras.layers.Input(shape = (1, ), dtype = \"string\", name = \"char_inputs\")\n",
    "char_vectors_hub = char_vectorizer_hub(char_inputs)\n",
    "char_embeddings_hub = char_embed_hub(char_vectors_hub)\n",
    "char_bi_lstm = tf_keras.layers.Bidirectional(tf_keras.layers.LSTM(32))(char_embeddings_hub)\n",
    "char_model = tf_keras.Model(inputs = char_inputs, outputs = char_bi_lstm)\n",
    "\n",
    "# 3. Line numbers inputs.\n",
    "line_number_inputs = tf_keras.layers.Input(shape = (15, ), dtype = tf.float32, name = \"line_number_input\")\n",
    "x = tf_keras.layers.Dense(32, activation = \"relu\")(line_number_inputs)\n",
    "line_number_model = tf_keras.Model(inputs = line_number_inputs, outputs = x)\n",
    "\n",
    "# 4. Total lines inputs.\n",
    "total_lines_inputs = tf_keras.layers.Input(shape = (20, ), dtype = tf.float32, name = \"total_lines_input\")\n",
    "y = tf_keras.layers.Dense(32, activation = \"relu\")(total_lines_inputs)\n",
    "total_lines_model = tf_keras.Model(inputs = total_lines_inputs, outputs = y)\n",
    "\n",
    "# 5. Combines token and char embeddings into a hybrid embedding.\n",
    "combined_embeddings  = tf_keras.layers.Concatenate(name = \"token_char_hybrid_embedding\")([token_model.output, char_model.output])\n",
    "z = tf_keras.layers.Dense(256, activation = \"relu\")(combined_embeddings)\n",
    "z = tf_keras.layers.Dropout(0.5)(z)\n",
    "\n",
    "# 6. Combines positional embeddings with combined token and char embeddings into a tribrid embedding.\n",
    "z = tf_keras.layers.Concatenate(name = \"token_char_positional_embedding\")([line_number_model.output, total_lines_model.output, z])\n",
    "\n",
    "# 7. Creates output layer.\n",
    "output_layer = tf_keras.layers.Dense(5, activation = \"softmax\", name = \"output_layer\")(z)\n",
    "\n",
    "\n",
    "# 8. Puts together model.\n",
    "model_5 = tf_keras.Model(inputs = [line_number_model.input,\n",
    "                                   total_lines_model.input,\n",
    "                                   token_model.input, \n",
    "                                   char_model.input],\n",
    "                         outputs = output_layer)"
   ]
  },
  {
   "cell_type": "code",
   "execution_count": 112,
   "id": "8e247310-138a-40bc-a0fa-3f11671b1e5a",
   "metadata": {},
   "outputs": [
    {
     "name": "stdout",
     "output_type": "stream",
     "text": [
      "Model: \"model_6\"\n",
      "__________________________________________________________________________________________________\n",
      " Layer (type)                Output Shape                 Param #   Connected to                  \n",
      "==================================================================================================\n",
      " char_inputs (InputLayer)    [(None, 1)]                  0         []                            \n",
      "                                                                                                  \n",
      " token_inputs (InputLayer)   [(None,)]                    0         []                            \n",
      "                                                                                                  \n",
      " char_vectorizer_hub (TextV  (None, 290)                  0         ['char_inputs[0][0]']         \n",
      " ectorization)                                                                                    \n",
      "                                                                                                  \n",
      " universal_sentence_encoder  (None, 512)                  2567978   ['token_inputs[0][0]']        \n",
      "  (KerasLayer)                                            24                                      \n",
      "                                                                                                  \n",
      " char_embed_hub (Embedding)  (None, 290, 25)              700       ['char_vectorizer_hub[1][0]'] \n",
      "                                                                                                  \n",
      " dense_5 (Dense)             (None, 128)                  65664     ['universal_sentence_encoder[2\n",
      "                                                                    ][0]']                        \n",
      "                                                                                                  \n",
      " bidirectional_1 (Bidirecti  (None, 64)                   14848     ['char_embed_hub[1][0]']      \n",
      " onal)                                                                                            \n",
      "                                                                                                  \n",
      " token_char_hybrid_embeddin  (None, 192)                  0         ['dense_5[0][0]',             \n",
      " g (Concatenate)                                                     'bidirectional_1[0][0]']     \n",
      "                                                                                                  \n",
      " line_number_input (InputLa  [(None, 15)]                 0         []                            \n",
      " yer)                                                                                             \n",
      "                                                                                                  \n",
      " total_lines_input (InputLa  [(None, 20)]                 0         []                            \n",
      " yer)                                                                                             \n",
      "                                                                                                  \n",
      " dense_8 (Dense)             (None, 256)                  49408     ['token_char_hybrid_embedding[\n",
      "                                                                    0][0]']                       \n",
      "                                                                                                  \n",
      " dense_6 (Dense)             (None, 32)                   512       ['line_number_input[0][0]']   \n",
      "                                                                                                  \n",
      " dense_7 (Dense)             (None, 32)                   672       ['total_lines_input[0][0]']   \n",
      "                                                                                                  \n",
      " dropout_2 (Dropout)         (None, 256)                  0         ['dense_8[0][0]']             \n",
      "                                                                                                  \n",
      " token_char_positional_embe  (None, 320)                  0         ['dense_6[0][0]',             \n",
      " dding (Concatenate)                                                 'dense_7[0][0]',             \n",
      "                                                                     'dropout_2[0][0]']           \n",
      "                                                                                                  \n",
      " output_layer (Dense)        (None, 5)                    1605      ['token_char_positional_embedd\n",
      "                                                                    ing[0][0]']                   \n",
      "                                                                                                  \n",
      "==================================================================================================\n",
      "Total params: 256931233 (980.11 MB)\n",
      "Trainable params: 133409 (521.13 KB)\n",
      "Non-trainable params: 256797824 (979.61 MB)\n",
      "__________________________________________________________________________________________________\n"
     ]
    }
   ],
   "source": [
    "model_5.summary()"
   ]
  },
  {
   "cell_type": "code",
   "execution_count": 113,
   "id": "ba754ce3-58c1-481c-b919-5321a0c4bcfb",
   "metadata": {},
   "outputs": [
    {
     "data": {
      "image/png": "[encoded data removed]",
      "text/plain": [
       "<IPython.core.display.Image object>"
      ]
     },
     "execution_count": 113,
     "metadata": {},
     "output_type": "execute_result"
    }
   ],
   "source": [
    "# tf_keras.utils.plot_model(model_5, show_shapes = True, show_layer_names = True)\n",
    "tf_keras.utils.plot_model(model_5)"
   ]
  },
  {
   "cell_type": "code",
   "execution_count": 114,
   "id": "be8fca9a-080d-4c82-9966-95c0cd10766f",
   "metadata": {},
   "outputs": [],
   "source": [
    "# Compiles hybrid model (token - char model)\n",
    "model_5.compile(loss = tf_keras.losses.CategoricalCrossentropy(label_smoothing = 0.2), # helps to prevent overfitting \n",
    "                optimizer = tf_keras.optimizers.Adam(), \n",
    "                metrics = [\"accuracy\"])"
   ]
  },
  {
   "cell_type": "markdown",
   "id": "178a17ba-c676-4e7f-9f3e-4dace5f228e4",
   "metadata": {},
   "source": [
    "#### Creating tribrid embedding datasets using tf.data"
   ]
  },
  {
   "cell_type": "code",
   "execution_count": 115,
   "id": "fb8a09f0-bb03-4ea0-b01c-a782c356c7ab",
   "metadata": {},
   "outputs": [],
   "source": [
    "# Creates training and validation datasets (all four kinds of inputs)\n",
    "train_pos_char_token_data = tf.data.Dataset.from_tensor_slices((train_line_numbers_one_hot, # line numbers\n",
    "                                                                train_total_lines_one_hot, # total lines\n",
    "                                                                train_sentences, # train tokens\n",
    "                                                                train_chars)) # train chars\n",
    "train_pos_char_token_labels = tf.data.Dataset.from_tensor_slices(train_labels_one_hot) # train labels\n",
    "\n",
    "train_pos_char_token_dataset = tf.data.Dataset.zip((train_pos_char_token_data, train_pos_char_token_labels)) # combines data and labels\n",
    "train_pos_char_token_dataset = train_pos_char_token_dataset.batch(32).prefetch(tf.data.AUTOTUNE) # turns into batches and prefetch appropriately\n",
    "\n",
    "# Validation dataset.\n",
    "val_pos_char_token_data = tf.data.Dataset.from_tensor_slices((val_line_numbers_one_hot,\n",
    "                                                              val_total_lines_one_hot,\n",
    "                                                              val_sentences,\n",
    "                                                              val_chars))\n",
    "val_pos_char_token_labels = tf.data.Dataset.from_tensor_slices(val_labels_one_hot)\n",
    "\n",
    "val_pos_char_token_dataset = tf.data.Dataset.zip((val_pos_char_token_data, val_pos_char_token_labels))\n",
    "val_pos_char_token_dataset = val_pos_char_token_dataset.batch(32).prefetch(tf.data.AUTOTUNE) # turns into batches and prefetch appropriately"
   ]
  },
  {
   "cell_type": "code",
   "execution_count": 116,
   "id": "3e43d344-6fef-442b-b561-08132202eb85",
   "metadata": {},
   "outputs": [
    {
     "data": {
      "text/plain": [
       "(<_PrefetchDataset element_spec=((TensorSpec(shape=(None, 15), dtype=tf.float32, name=None), TensorSpec(shape=(None, 20), dtype=tf.float32, name=None), TensorSpec(shape=(None,), dtype=tf.string, name=None), TensorSpec(shape=(None,), dtype=tf.string, name=None)), TensorSpec(shape=(None, 5), dtype=tf.float64, name=None))>,\n",
       " <_PrefetchDataset element_spec=((TensorSpec(shape=(None, 15), dtype=tf.float32, name=None), TensorSpec(shape=(None, 20), dtype=tf.float32, name=None), TensorSpec(shape=(None,), dtype=tf.string, name=None), TensorSpec(shape=(None,), dtype=tf.string, name=None)), TensorSpec(shape=(None, 5), dtype=tf.float64, name=None))>)"
      ]
     },
     "execution_count": 116,
     "metadata": {},
     "output_type": "execute_result"
    }
   ],
   "source": [
    "# Checking the shape and samples of total lines one-hot tensor.\n",
    "train_pos_char_token_dataset, val_pos_char_token_dataset"
   ]
  },
  {
   "cell_type": "markdown",
   "id": "f91aa542-473c-4417-90b1-adcd799e165c",
   "metadata": {},
   "source": [
    "#### Fitting a tribrid model on token and char"
   ]
  },
  {
   "cell_type": "code",
   "execution_count": 117,
   "id": "c6c3a8ea-dc24-45a3-9bbd-b7996543c9a3",
   "metadata": {},
   "outputs": [
    {
     "name": "stdout",
     "output_type": "stream",
     "text": [
      "Epoch 1/3\n",
      "562/562 [==============================] - 54s 85ms/step - loss: 1.0957 - accuracy: 0.7232 - val_loss: 0.9803 - val_accuracy: 0.8052\n",
      "Epoch 2/3\n",
      "562/562 [==============================] - 46s 82ms/step - loss: 0.9671 - accuracy: 0.8158 - val_loss: 0.9496 - val_accuracy: 0.8275\n",
      "Epoch 3/3\n",
      "562/562 [==============================] - 46s 83ms/step - loss: 0.9503 - accuracy: 0.8225 - val_loss: 0.9397 - val_accuracy: 0.8265\n"
     ]
    }
   ],
   "source": [
    "histoty_model_5 = model_5.fit(train_pos_char_token_dataset,\n",
    "                              steps_per_epoch = int(0.1 * len(train_pos_char_token_dataset)),\n",
    "                              epochs = 3, \n",
    "                              validation_data = val_pos_char_token_dataset, \n",
    "                              validation_steps = int(0.1 * len(val_pos_char_token_dataset)))"
   ]
  },
  {
   "cell_type": "code",
   "execution_count": 118,
   "id": "0abd1542-68aa-487b-9a18-2e42df462fca",
   "metadata": {},
   "outputs": [
    {
     "name": "stdout",
     "output_type": "stream",
     "text": [
      "945/945 [==============================] - 22s 23ms/step - loss: 0.9368 - accuracy: 0.8332\n"
     ]
    },
    {
     "data": {
      "text/plain": [
       "[0.936846137046814, 0.833245038986206]"
      ]
     },
     "execution_count": 118,
     "metadata": {},
     "output_type": "execute_result"
    }
   ],
   "source": [
    "# Evaluates on whole validation dataset.\n",
    "model_5.evaluate(val_pos_char_token_dataset)"
   ]
  },
  {
   "cell_type": "code",
   "execution_count": 119,
   "id": "3cd407ee-51fd-4e62-8751-a6c1305ecc14",
   "metadata": {},
   "outputs": [
    {
     "name": "stdout",
     "output_type": "stream",
     "text": [
      "945/945 [==============================] - 24s 23ms/step\n"
     ]
    },
    {
     "data": {
      "text/plain": [
       "(array([[0.49877894, 0.1234269 , 0.01312155, 0.3450742 , 0.01959842],\n",
       "        [0.5303693 , 0.09915446, 0.04227255, 0.3166665 , 0.01153718],\n",
       "        [0.2687449 , 0.10858025, 0.1640611 , 0.38579452, 0.07281922],\n",
       "        ...,\n",
       "        [0.0311601 , 0.10964399, 0.04651861, 0.02875758, 0.78391963],\n",
       "        [0.02767937, 0.33074063, 0.09942935, 0.02277793, 0.5193727 ],\n",
       "        [0.23849903, 0.54353297, 0.09284737, 0.04351163, 0.08160909]],\n",
       "       dtype=float32),\n",
       " (30212, 5))"
      ]
     },
     "execution_count": 119,
     "metadata": {},
     "output_type": "execute_result"
    }
   ],
   "source": [
    "# Making prediction on model_5.\n",
    "model_5_pred_probs = model_5.predict(val_pos_char_token_dataset)\n",
    "model_5_pred_probs, model_5_pred_probs.shape"
   ]
  },
  {
   "cell_type": "code",
   "execution_count": 120,
   "id": "de09250d-0471-49ec-a7d1-b125e470974d",
   "metadata": {},
   "outputs": [
    {
     "data": {
      "text/plain": [
       "<tf.Tensor: shape=(30212,), dtype=int64, numpy=array([0, 0, 3, ..., 4, 4, 1], dtype=int64)>"
      ]
     },
     "execution_count": 120,
     "metadata": {},
     "output_type": "execute_result"
    }
   ],
   "source": [
    "# Converting predictions' propabilietes to classes.\n",
    "model_5_preds = tf.argmax(model_5_pred_probs, axis = 1)\n",
    "model_5_preds"
   ]
  },
  {
   "cell_type": "code",
   "execution_count": 121,
   "id": "7e64b170-cbbe-485c-8319-6eefb9256ff5",
   "metadata": {},
   "outputs": [
    {
     "data": {
      "text/plain": [
       "{'accuracy': 83.32450681848272,\n",
       " 'precision': 0.8318757855794238,\n",
       " 'recall': 0.8332450681848272,\n",
       " 'f1': 0.8321399475450273}"
      ]
     },
     "execution_count": 121,
     "metadata": {},
     "output_type": "execute_result"
    }
   ],
   "source": [
    "# Calculating model_5 results.\n",
    "model_5_results = hf.calculate_results(y_true = val_labels_encoded,\n",
    "                                       y_pred = model_5_preds)\n",
    "model_5_results"
   ]
  },
  {
   "cell_type": "code",
   "execution_count": 122,
   "id": "a3a5ec5e-74ac-41fa-a3fd-a9c99e64c6de",
   "metadata": {},
   "outputs": [
    {
     "name": "stdout",
     "output_type": "stream",
     "text": [
      "The \"accuracy\" of new model '83.32', is BETTER than baseline's '72.18' => 11.14.\n",
      "\n",
      "The \"precision\" of new model '0.83', is BETTER than baseline's '0.72' => 0.11.\n",
      "\n",
      "The \"recall\" of new model '0.83', is BETTER than baseline's '0.72' => 0.11.\n",
      "\n",
      "The \"f1\" of new model '0.83', is BETTER than baseline's '0.70' => 0.13.\n",
      "\n"
     ]
    }
   ],
   "source": [
    "# Compares the baseline model against to model_5.\n",
    "hf.compare_baseline_to_new_model_results(baseline_results, model_5_results)"
   ]
  },
  {
   "cell_type": "markdown",
   "id": "b839b0bc-be7c-41a4-ba66-edf8495a7997",
   "metadata": {},
   "source": [
    "### Comparing all model results"
   ]
  },
  {
   "cell_type": "code",
   "execution_count": 123,
   "id": "6bd64069-ebff-443f-83fd-044010c708d7",
   "metadata": {},
   "outputs": [
    {
     "data": {
      "text/html": [
       "<div>\n",
       "<style scoped>\n",
       "    .dataframe tbody tr th:only-of-type {\n",
       "        vertical-align: middle;\n",
       "    }\n",
       "\n",
       "    .dataframe tbody tr th {\n",
       "        vertical-align: top;\n",
       "    }\n",
       "\n",
       "    .dataframe thead th {\n",
       "        text-align: right;\n",
       "    }\n",
       "</style>\n",
       "<table border=\"1\" class=\"dataframe\">\n",
       "  <thead>\n",
       "    <tr style=\"text-align: right;\">\n",
       "      <th></th>\n",
       "      <th>accuracy</th>\n",
       "      <th>precision</th>\n",
       "      <th>recall</th>\n",
       "      <th>f1</th>\n",
       "    </tr>\n",
       "  </thead>\n",
       "  <tbody>\n",
       "    <tr>\n",
       "      <th>model_0_baselint</th>\n",
       "      <td>72.183238</td>\n",
       "      <td>0.718647</td>\n",
       "      <td>0.721832</td>\n",
       "      <td>0.698925</td>\n",
       "    </tr>\n",
       "    <tr>\n",
       "      <th>model_1_custom_token_embedding</th>\n",
       "      <td>78.753475</td>\n",
       "      <td>0.783952</td>\n",
       "      <td>0.787535</td>\n",
       "      <td>0.785151</td>\n",
       "    </tr>\n",
       "    <tr>\n",
       "      <th>model_2_pretrained_token_embedding</th>\n",
       "      <td>78.753475</td>\n",
       "      <td>0.783952</td>\n",
       "      <td>0.787535</td>\n",
       "      <td>0.785151</td>\n",
       "    </tr>\n",
       "    <tr>\n",
       "      <th>model_3_custom_char_embedding</th>\n",
       "      <td>37.895538</td>\n",
       "      <td>0.396923</td>\n",
       "      <td>0.378955</td>\n",
       "      <td>0.297329</td>\n",
       "    </tr>\n",
       "    <tr>\n",
       "      <th>model_4_hybrid_char_token_embedding</th>\n",
       "      <td>73.583344</td>\n",
       "      <td>0.737437</td>\n",
       "      <td>0.735833</td>\n",
       "      <td>0.733877</td>\n",
       "    </tr>\n",
       "    <tr>\n",
       "      <th>model_5_pos_char_token_embedding</th>\n",
       "      <td>83.324507</td>\n",
       "      <td>0.831876</td>\n",
       "      <td>0.833245</td>\n",
       "      <td>0.832140</td>\n",
       "    </tr>\n",
       "  </tbody>\n",
       "</table>\n",
       "</div>"
      ],
      "text/plain": [
       "                                      accuracy  precision    recall        f1\n",
       "model_0_baselint                     72.183238   0.718647  0.721832  0.698925\n",
       "model_1_custom_token_embedding       78.753475   0.783952  0.787535  0.785151\n",
       "model_2_pretrained_token_embedding   78.753475   0.783952  0.787535  0.785151\n",
       "model_3_custom_char_embedding        37.895538   0.396923  0.378955  0.297329\n",
       "model_4_hybrid_char_token_embedding  73.583344   0.737437  0.735833  0.733877\n",
       "model_5_pos_char_token_embedding     83.324507   0.831876  0.833245  0.832140"
      ]
     },
     "execution_count": 123,
     "metadata": {},
     "output_type": "execute_result"
    }
   ],
   "source": [
    "all_model_results = pd.DataFrame({\"model_0_baselint\": baseline_results,\n",
    "                                  \"model_1_custom_token_embedding\": model_1_results,\n",
    "                                  \"model_2_pretrained_token_embedding\": model_2_results,\n",
    "                                  \"model_3_custom_char_embedding\": model_3_results,\n",
    "                                  \"model_4_hybrid_char_token_embedding\": model_4_results,\n",
    "                                  \"model_5_pos_char_token_embedding\": model_5_results})\n",
    "all_model_results = all_model_results.transpose()\n",
    "all_model_results"
   ]
  },
  {
   "cell_type": "code",
   "execution_count": 124,
   "id": "71df9a64-1d8c-4a72-ad91-054c8a4f8173",
   "metadata": {},
   "outputs": [],
   "source": [
    "# Reduces the accuracy to same scale as other metrics.\n",
    "all_model_results[\"accuracy\"] = all_model_results[\"accuracy\"]/100"
   ]
  },
  {
   "cell_type": "code",
   "execution_count": 125,
   "id": "5e724251-339a-49fa-a946-1320ba072da2",
   "metadata": {},
   "outputs": [
    {
     "data": {
      "image/png": "[encoded data removed]",
      "text/plain": [
       "<Figure size 1000x700 with 1 Axes>"
      ]
     },
     "metadata": {},
     "output_type": "display_data"
    }
   ],
   "source": [
    "# Plotting and compare all model resutls.\n",
    "all_model_results.plot(kind = \"bar\", figsize = (10, 7)).legend(bbox_to_anchor = (1.0, 1.0));"
   ]
  },
  {
   "cell_type": "code",
   "execution_count": 126,
   "id": "66b49ff0-425e-45a4-b780-4c93731efea0",
   "metadata": {},
   "outputs": [
    {
     "data": {
      "image/png": "[encoded data removed]",
      "text/plain": [
       "<Figure size 1000x700 with 1 Axes>"
      ]
     },
     "metadata": {},
     "output_type": "display_data"
    }
   ],
   "source": [
    "# Sorts model results by f1-score\n",
    "all_model_results.sort_values(\"f1\", ascending = False)[\"f1\"].plot(kind = \"bar\", figsize = (10, 7));"
   ]
  },
  {
   "cell_type": "code",
   "execution_count": null,
   "id": "c14ee8cd-11e4-432f-bb49-ee50857559d5",
   "metadata": {},
   "outputs": [],
   "source": []
  }
 ],
 "metadata": {
  "kernelspec": {
   "display_name": "Python 3 (ipykernel)",
   "language": "python",
   "name": "python3"
  },
  "language_info": {
   "codemirror_mode": {
    "name": "ipython",
    "version": 3
   },
   "file_extension": ".py",
   "mimetype": "text/x-python",
   "name": "python",
   "nbconvert_exporter": "python",
   "pygments_lexer": "ipython3",
   "version": "3.12.7"
  }
 },
 "nbformat": 4,
 "nbformat_minor": 5
}
